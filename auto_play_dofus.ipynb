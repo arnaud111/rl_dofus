{
 "cells": [
  {
   "cell_type": "code",
   "execution_count": 1,
   "id": "initial_id",
   "metadata": {
    "collapsed": true,
    "ExecuteTime": {
     "end_time": "2024-02-08T17:57:20.329627544Z",
     "start_time": "2024-02-08T17:57:19.534702089Z"
    }
   },
   "outputs": [],
   "source": [
    "import time\n",
    "import pyautogui\n",
    "from object.database_connection import DatabaseConnection\n",
    "from object.dofus_agent import Agent\n",
    "from object.map_state import MapState\n",
    "from utils_dofus import ACTIONS, get_player_pos, dict_swap_pos_to_array_index, dict_swap_pos_to_dofus, MONSTER, INVO, BOSS, END_TURN, base_x, base_y, step_y, step_x, box_size, USABLE_CELL, PLAYER, count_pm_to_pos, dict_swap_array_index_to_dofus\n",
    "import arcade\n",
    "import os"
   ]
  },
  {
   "cell_type": "code",
   "outputs": [],
   "source": [
    "database = DatabaseConnection()\n",
    "agent = Agent(database, False)"
   ],
   "metadata": {
    "collapsed": false,
    "ExecuteTime": {
     "end_time": "2024-02-08T17:57:20.331644489Z",
     "start_time": "2024-02-08T17:57:20.327476222Z"
    }
   },
   "id": "d6d62c6c7fd2d15f",
   "execution_count": 2
  },
  {
   "cell_type": "code",
   "outputs": [],
   "source": [
    "def can_play(screen):\n",
    "    try:\n",
    "        if pyautogui.locate(\"resources/end_turn.png\", screen) is not None:\n",
    "            return True\n",
    "    except pyautogui.ImageNotFoundException:\n",
    "        return False\n",
    "    return False"
   ],
   "metadata": {
    "collapsed": false,
    "ExecuteTime": {
     "end_time": "2024-02-08T17:57:20.332502380Z",
     "start_time": "2024-02-08T17:57:20.328248433Z"
    }
   },
   "id": "c0dee0be689ab50",
   "execution_count": 3
  },
  {
   "cell_type": "code",
   "outputs": [],
   "source": [
    "def get_pa(screen):\n",
    "    try:\n",
    "        if pyautogui.locate(\"resources/pa_6.png\", screen) is not None:\n",
    "            return 6\n",
    "        if pyautogui.locate(\"resources/pa_3.png\", screen) is not None:\n",
    "            return 3\n",
    "        if pyautogui.locate(\"resources/pa_0.png\", screen) is not None:\n",
    "            return 0\n",
    "    except pyautogui.ImageNotFoundException:\n",
    "        return 0\n",
    "    return 0"
   ],
   "metadata": {
    "collapsed": false,
    "ExecuteTime": {
     "end_time": "2024-02-08T17:57:20.333305731Z",
     "start_time": "2024-02-08T17:57:20.328839459Z"
    }
   },
   "id": "e706cd04c478434d",
   "execution_count": 4
  },
  {
   "cell_type": "code",
   "outputs": [],
   "source": [
    "def get_pm(screen):\n",
    "    try:\n",
    "        if pyautogui.locate(\"resources/pm_3.png\", screen) is not None:\n",
    "            return 3\n",
    "        if pyautogui.locate(\"resources/pm_2.png\", screen) is not None:\n",
    "            return 2\n",
    "        if pyautogui.locate(\"resources/pm_1.png\", screen) is not None:\n",
    "            return 1\n",
    "        if pyautogui.locate(\"resources/pm_0.png\", screen) is not None:\n",
    "            return 0\n",
    "    except pyautogui.ImageNotFoundException:\n",
    "        return 0\n",
    "    return 0"
   ],
   "metadata": {
    "collapsed": false,
    "ExecuteTime": {
     "end_time": "2024-02-08T17:57:20.341771643Z",
     "start_time": "2024-02-08T17:57:20.329760406Z"
    }
   },
   "id": "a897731b0f037a06",
   "execution_count": 5
  },
  {
   "cell_type": "code",
   "outputs": [],
   "source": [
    "def center_cell(dofus_pos):\n",
    "    x = base_x + step_x * dofus_pos[0]\n",
    "    y = base_y + step_y * dofus_pos[1]\n",
    "    \n",
    "    if dofus_pos[2]:\n",
    "        x += step_x // 2\n",
    "        y += step_y // 2\n",
    "        \n",
    "    x += box_size // 2\n",
    "    y += box_size\n",
    "    \n",
    "    return x, y"
   ],
   "metadata": {
    "collapsed": false,
    "ExecuteTime": {
     "end_time": "2024-02-08T17:57:20.344519314Z",
     "start_time": "2024-02-08T17:57:20.339290153Z"
    }
   },
   "id": "82a3270e8412fcc6",
   "execution_count": 6
  },
  {
   "cell_type": "code",
   "outputs": [],
   "source": [
    "def do_for_real(state, action):\n",
    "\n",
    "    clicked = ACTIONS[action]\n",
    "    player_pos = get_player_pos(state.map)\n",
    "\n",
    "    if player_pos == -1:\n",
    "        return None\n",
    "    \n",
    "    if clicked == END_TURN:\n",
    "        pyautogui.keyDown(\"f1\")\n",
    "        time.sleep(0.01)\n",
    "        pyautogui.keyUp(\"f1\")\n",
    "        return None\n",
    "\n",
    "    clicked_pos = player_pos[0] + clicked[0], player_pos[1] + clicked[1]\n",
    "\n",
    "    if clicked_pos not in dict_swap_pos_to_array_index.keys():\n",
    "        return None\n",
    "    \n",
    "    clicked_index = dict_swap_pos_to_array_index[clicked_pos]\n",
    "    \n",
    "    if state.map[clicked_index] == MONSTER or state.map[clicked_index] == INVO or state.map[clicked_index] == BOSS:\n",
    "        state.map[clicked_index] = USABLE_CELL\n",
    "        pyautogui.keyDown(\"2\")\n",
    "        time.sleep(0.01)\n",
    "        pyautogui.keyUp(\"2\")\n",
    "        time.sleep(0.1)\n",
    "    elif state.map[clicked_index] == USABLE_CELL:\n",
    "        pm_used = count_pm_to_pos(state.map, player_pos, clicked_pos, state.pm)\n",
    "        if pm_used == -1 or pm_used > state.pm:\n",
    "            return None\n",
    "        state.pm -= pm_used        \n",
    "        state.map[clicked_index] = PLAYER\n",
    "        state.map[dict_swap_pos_to_array_index[player_pos]] = USABLE_CELL\n",
    "\n",
    "    pos = center_cell(dict_swap_pos_to_dofus[clicked_pos])\n",
    "    pyautogui.click(pos)\n",
    "    pyautogui.moveTo(100, 100, duration=0.1)\n",
    "    #move_mouse(pos[0], pos[1])\n",
    "    #click()\n",
    "    #move_mouse(100, 100)\n",
    "    \n",
    "    return state"
   ],
   "metadata": {
    "collapsed": false,
    "ExecuteTime": {
     "end_time": "2024-02-08T17:57:20.399711303Z",
     "start_time": "2024-02-08T17:57:20.351192963Z"
    }
   },
   "id": "8ed7fed8dcc51e28",
   "execution_count": 7
  },
  {
   "cell_type": "code",
   "outputs": [],
   "source": [
    "class DofusStatusWindow(arcade.Window):\n",
    "    \n",
    "    def __init__(self):\n",
    "        super().__init__(2256 // 2, 1504 // 2, \"DofusStatus\")\n",
    "        arcade.set_background_color(arcade.color.BLACK)\n",
    "        self.map_state = None\n",
    "        self.action = None\n",
    "        \n",
    "    def draw_box(self, x, y, color):\n",
    "        arcade.draw_rectangle_filled(x, 1504 // 2 - y, box_size // 2, box_size // 2, color)\n",
    "        \n",
    "    def draw_box_outline(self, x, y, color):\n",
    "        arcade.draw_rectangle_outline(x, 1504 // 2 - y, box_size // 2, box_size // 2, color, border_width=5)    \n",
    "        \n",
    "    def on_draw(self):\n",
    "        arcade.start_render()\n",
    "        if self.map_state is not None:\n",
    "            for pos in range(len(self.map_state.map)):\n",
    "                if self.map_state.map[pos] != 0:\n",
    "    \n",
    "                    dofus_pos = dict_swap_array_index_to_dofus[pos]\n",
    "    \n",
    "                    x = base_x + step_x * dofus_pos[0]\n",
    "                    y = base_y + step_y * dofus_pos[1]\n",
    "                    \n",
    "                    if dofus_pos[2]:\n",
    "                        x += step_x // 2\n",
    "                        y += step_y // 2\n",
    "                    \n",
    "                    x = x // 2\n",
    "                    y = y // 2\n",
    "                    \n",
    "                    if self.map_state.map[pos] == 1:\n",
    "                        self.draw_box(x, y, arcade.color.GRAY)\n",
    "                    elif self.map_state.map[pos] == 2:\n",
    "                        self.draw_box(x, y, arcade.color.GREEN)\n",
    "                    elif self.map_state.map[pos] == 3:\n",
    "                        self.draw_box(x, y, arcade.color.BLUE)\n",
    "                    elif self.map_state.map[pos] == 4:\n",
    "                        self.draw_box(x, y, arcade.color.RED)\n",
    "                    elif self.map_state.map[pos] == 5:\n",
    "                        self.draw_box(x, y, arcade.color.YELLOW)\n",
    "                    elif self.map_state.map[pos] == 6:\n",
    "                        self.draw_box(x, y, arcade.color.ORANGE)\n",
    "                    else:\n",
    "                        self.draw_box(x, y, arcade.color.AQUA)\n",
    "\n",
    "            if self.action is not None and ACTIONS[self.action] != END_TURN:\n",
    "                \n",
    "                clicked = ACTIONS[self.action]\n",
    "                player_pos = get_player_pos(self.map_state.map)\n",
    "            \n",
    "                if player_pos == -1:\n",
    "                    return\n",
    "                \n",
    "                clicked_pos = player_pos[0] + clicked[0], player_pos[1] + clicked[1]\n",
    "                \n",
    "                dofus_pos = dict_swap_pos_to_dofus[clicked_pos]\n",
    "        \n",
    "                x = base_x + step_x * dofus_pos[0]\n",
    "                y = base_y + step_y * dofus_pos[1]\n",
    "                \n",
    "                if dofus_pos[2]:\n",
    "                    x += step_x // 2\n",
    "                    y += step_y // 2\n",
    "                \n",
    "                x = x // 2\n",
    "                y = y // 2\n",
    "                \n",
    "                self.draw_box_outline(x, y, arcade.color.WHITE)\n",
    "\n",
    "    def on_update(self, delta_time):\n",
    "        time.sleep(0.5)\n",
    "        if self.map_state is None:\n",
    "            screenshot = pyautogui.screenshot()\n",
    "            if can_play(screenshot):\n",
    "                self.map_state = MapState.screen_info(get_pa(screenshot), get_pm(screenshot), screenshot=screenshot)\n",
    "            else:\n",
    "                print(\"Searching for action to do\")\n",
    "        else:\n",
    "            self.action, _ = agent.best_action(self.map_state)\n",
    "            self.map_state = do_for_real(self.map_state, self.action)\n"
   ],
   "metadata": {
    "collapsed": false,
    "ExecuteTime": {
     "end_time": "2024-02-08T17:57:20.401011277Z",
     "start_time": "2024-02-08T17:57:20.399377606Z"
    }
   },
   "id": "ed79620488d6ccca",
   "execution_count": 8
  },
  {
   "cell_type": "code",
   "outputs": [],
   "source": [
    "#window = DofusStatusWindow()\n",
    "#arcade.run()"
   ],
   "metadata": {
    "collapsed": false,
    "ExecuteTime": {
     "end_time": "2024-02-08T17:57:20.402097235Z",
     "start_time": "2024-02-08T17:57:20.399859846Z"
    }
   },
   "id": "da81e8f25ed1403c",
   "execution_count": 9
  },
  {
   "cell_type": "code",
   "outputs": [
    {
     "ename": "KeyboardInterrupt",
     "evalue": "",
     "output_type": "error",
     "traceback": [
      "\u001B[0;31m---------------------------------------------------------------------------\u001B[0m",
      "\u001B[0;31mKeyboardInterrupt\u001B[0m                         Traceback (most recent call last)",
      "Cell \u001B[0;32mIn[10], line 3\u001B[0m\n\u001B[1;32m      1\u001B[0m \u001B[38;5;28;01mwhile\u001B[39;00m \u001B[38;5;241m1\u001B[39m:\n\u001B[1;32m      2\u001B[0m     time\u001B[38;5;241m.\u001B[39msleep(\u001B[38;5;241m3\u001B[39m)\n\u001B[0;32m----> 3\u001B[0m     screenshot \u001B[38;5;241m=\u001B[39m \u001B[43mpyautogui\u001B[49m\u001B[38;5;241;43m.\u001B[39;49m\u001B[43mscreenshot\u001B[49m\u001B[43m(\u001B[49m\u001B[43m)\u001B[49m\n\u001B[1;32m      4\u001B[0m     \u001B[38;5;28;01mif\u001B[39;00m can_play(screenshot):\n\u001B[1;32m      5\u001B[0m         time\u001B[38;5;241m.\u001B[39msleep(\u001B[38;5;241m1\u001B[39m)\n",
      "File \u001B[0;32m~/ESGI/RL/DofusAI/pythonProject/.venv/lib/python3.10/site-packages/pyscreeze/__init__.py:603\u001B[0m, in \u001B[0;36m_screenshot_linux\u001B[0;34m(imageFilename, region)\u001B[0m\n\u001B[1;32m    596\u001B[0m \u001B[38;5;66;03m# Version 9.2.0 introduced using gnome-screenshot for ImageGrab.grab()\u001B[39;00m\n\u001B[1;32m    597\u001B[0m \u001B[38;5;66;03m# on Linux, which is necessary to have screenshots work with Wayland\u001B[39;00m\n\u001B[1;32m    598\u001B[0m \u001B[38;5;66;03m# (the replacement for x11.) Therefore, for 3.7 and later, PyScreeze\u001B[39;00m\n\u001B[1;32m    599\u001B[0m \u001B[38;5;66;03m# uses/requires 9.2.0.\u001B[39;00m\n\u001B[1;32m    600\u001B[0m \u001B[38;5;28;01mif\u001B[39;00m PILLOW_VERSION \u001B[38;5;241m>\u001B[39m\u001B[38;5;241m=\u001B[39m (\u001B[38;5;241m9\u001B[39m, \u001B[38;5;241m2\u001B[39m, \u001B[38;5;241m0\u001B[39m) \u001B[38;5;129;01mand\u001B[39;00m GNOMESCREENSHOT_EXISTS:\n\u001B[1;32m    601\u001B[0m     \u001B[38;5;66;03m# Pillow doesn't need tmpFilename because it works entirely in memory and doesn't\u001B[39;00m\n\u001B[1;32m    602\u001B[0m     \u001B[38;5;66;03m# need to save an image file to disk.\u001B[39;00m\n\u001B[0;32m--> 603\u001B[0m     im \u001B[38;5;241m=\u001B[39m \u001B[43mImageGrab\u001B[49m\u001B[38;5;241;43m.\u001B[39;49m\u001B[43mgrab\u001B[49m\u001B[43m(\u001B[49m\u001B[43m)\u001B[49m  \u001B[38;5;66;03m# use Pillow's grab() for Pillow 9.2.0 and later.\u001B[39;00m\n\u001B[1;32m    605\u001B[0m     \u001B[38;5;28;01mif\u001B[39;00m imageFilename \u001B[38;5;129;01mis\u001B[39;00m \u001B[38;5;129;01mnot\u001B[39;00m \u001B[38;5;28;01mNone\u001B[39;00m:\n\u001B[1;32m    606\u001B[0m         im\u001B[38;5;241m.\u001B[39msave(imageFilename)\n",
      "File \u001B[0;32m~/ESGI/RL/DofusAI/pythonProject/.venv/lib/python3.10/site-packages/PIL/ImageGrab.py:67\u001B[0m, in \u001B[0;36mgrab\u001B[0;34m(bbox, include_layered_windows, all_screens, xdisplay)\u001B[0m\n\u001B[1;32m     65\u001B[0m fh, filepath \u001B[38;5;241m=\u001B[39m tempfile\u001B[38;5;241m.\u001B[39mmkstemp(\u001B[38;5;124m\"\u001B[39m\u001B[38;5;124m.png\u001B[39m\u001B[38;5;124m\"\u001B[39m)\n\u001B[1;32m     66\u001B[0m os\u001B[38;5;241m.\u001B[39mclose(fh)\n\u001B[0;32m---> 67\u001B[0m \u001B[43msubprocess\u001B[49m\u001B[38;5;241;43m.\u001B[39;49m\u001B[43mcall\u001B[49m\u001B[43m(\u001B[49m\u001B[43m[\u001B[49m\u001B[38;5;124;43m\"\u001B[39;49m\u001B[38;5;124;43mgnome-screenshot\u001B[39;49m\u001B[38;5;124;43m\"\u001B[39;49m\u001B[43m,\u001B[49m\u001B[43m \u001B[49m\u001B[38;5;124;43m\"\u001B[39;49m\u001B[38;5;124;43m-f\u001B[39;49m\u001B[38;5;124;43m\"\u001B[39;49m\u001B[43m,\u001B[49m\u001B[43m \u001B[49m\u001B[43mfilepath\u001B[49m\u001B[43m]\u001B[49m\u001B[43m)\u001B[49m\n\u001B[1;32m     68\u001B[0m im \u001B[38;5;241m=\u001B[39m Image\u001B[38;5;241m.\u001B[39mopen(filepath)\n\u001B[1;32m     69\u001B[0m im\u001B[38;5;241m.\u001B[39mload()\n",
      "File \u001B[0;32m/usr/lib/python3.10/subprocess.py:347\u001B[0m, in \u001B[0;36mcall\u001B[0;34m(timeout, *popenargs, **kwargs)\u001B[0m\n\u001B[1;32m    345\u001B[0m \u001B[38;5;28;01mwith\u001B[39;00m Popen(\u001B[38;5;241m*\u001B[39mpopenargs, \u001B[38;5;241m*\u001B[39m\u001B[38;5;241m*\u001B[39mkwargs) \u001B[38;5;28;01mas\u001B[39;00m p:\n\u001B[1;32m    346\u001B[0m     \u001B[38;5;28;01mtry\u001B[39;00m:\n\u001B[0;32m--> 347\u001B[0m         \u001B[38;5;28;01mreturn\u001B[39;00m \u001B[43mp\u001B[49m\u001B[38;5;241;43m.\u001B[39;49m\u001B[43mwait\u001B[49m\u001B[43m(\u001B[49m\u001B[43mtimeout\u001B[49m\u001B[38;5;241;43m=\u001B[39;49m\u001B[43mtimeout\u001B[49m\u001B[43m)\u001B[49m\n\u001B[1;32m    348\u001B[0m     \u001B[38;5;28;01mexcept\u001B[39;00m:  \u001B[38;5;66;03m# Including KeyboardInterrupt, wait handled that.\u001B[39;00m\n\u001B[1;32m    349\u001B[0m         p\u001B[38;5;241m.\u001B[39mkill()\n",
      "File \u001B[0;32m/usr/lib/python3.10/subprocess.py:1209\u001B[0m, in \u001B[0;36mPopen.wait\u001B[0;34m(self, timeout)\u001B[0m\n\u001B[1;32m   1207\u001B[0m     endtime \u001B[38;5;241m=\u001B[39m _time() \u001B[38;5;241m+\u001B[39m timeout\n\u001B[1;32m   1208\u001B[0m \u001B[38;5;28;01mtry\u001B[39;00m:\n\u001B[0;32m-> 1209\u001B[0m     \u001B[38;5;28;01mreturn\u001B[39;00m \u001B[38;5;28;43mself\u001B[39;49m\u001B[38;5;241;43m.\u001B[39;49m\u001B[43m_wait\u001B[49m\u001B[43m(\u001B[49m\u001B[43mtimeout\u001B[49m\u001B[38;5;241;43m=\u001B[39;49m\u001B[43mtimeout\u001B[49m\u001B[43m)\u001B[49m\n\u001B[1;32m   1210\u001B[0m \u001B[38;5;28;01mexcept\u001B[39;00m \u001B[38;5;167;01mKeyboardInterrupt\u001B[39;00m:\n\u001B[1;32m   1211\u001B[0m     \u001B[38;5;66;03m# https://bugs.python.org/issue25942\u001B[39;00m\n\u001B[1;32m   1212\u001B[0m     \u001B[38;5;66;03m# The first keyboard interrupt waits briefly for the child to\u001B[39;00m\n\u001B[1;32m   1213\u001B[0m     \u001B[38;5;66;03m# exit under the common assumption that it also received the ^C\u001B[39;00m\n\u001B[1;32m   1214\u001B[0m     \u001B[38;5;66;03m# generated SIGINT and will exit rapidly.\u001B[39;00m\n\u001B[1;32m   1215\u001B[0m     \u001B[38;5;28;01mif\u001B[39;00m timeout \u001B[38;5;129;01mis\u001B[39;00m \u001B[38;5;129;01mnot\u001B[39;00m \u001B[38;5;28;01mNone\u001B[39;00m:\n",
      "File \u001B[0;32m/usr/lib/python3.10/subprocess.py:1959\u001B[0m, in \u001B[0;36mPopen._wait\u001B[0;34m(self, timeout)\u001B[0m\n\u001B[1;32m   1957\u001B[0m \u001B[38;5;28;01mif\u001B[39;00m \u001B[38;5;28mself\u001B[39m\u001B[38;5;241m.\u001B[39mreturncode \u001B[38;5;129;01mis\u001B[39;00m \u001B[38;5;129;01mnot\u001B[39;00m \u001B[38;5;28;01mNone\u001B[39;00m:\n\u001B[1;32m   1958\u001B[0m     \u001B[38;5;28;01mbreak\u001B[39;00m  \u001B[38;5;66;03m# Another thread waited.\u001B[39;00m\n\u001B[0;32m-> 1959\u001B[0m (pid, sts) \u001B[38;5;241m=\u001B[39m \u001B[38;5;28;43mself\u001B[39;49m\u001B[38;5;241;43m.\u001B[39;49m\u001B[43m_try_wait\u001B[49m\u001B[43m(\u001B[49m\u001B[38;5;241;43m0\u001B[39;49m\u001B[43m)\u001B[49m\n\u001B[1;32m   1960\u001B[0m \u001B[38;5;66;03m# Check the pid and loop as waitpid has been known to\u001B[39;00m\n\u001B[1;32m   1961\u001B[0m \u001B[38;5;66;03m# return 0 even without WNOHANG in odd situations.\u001B[39;00m\n\u001B[1;32m   1962\u001B[0m \u001B[38;5;66;03m# http://bugs.python.org/issue14396.\u001B[39;00m\n\u001B[1;32m   1963\u001B[0m \u001B[38;5;28;01mif\u001B[39;00m pid \u001B[38;5;241m==\u001B[39m \u001B[38;5;28mself\u001B[39m\u001B[38;5;241m.\u001B[39mpid:\n",
      "File \u001B[0;32m/usr/lib/python3.10/subprocess.py:1917\u001B[0m, in \u001B[0;36mPopen._try_wait\u001B[0;34m(self, wait_flags)\u001B[0m\n\u001B[1;32m   1915\u001B[0m \u001B[38;5;250m\u001B[39m\u001B[38;5;124;03m\"\"\"All callers to this function MUST hold self._waitpid_lock.\"\"\"\u001B[39;00m\n\u001B[1;32m   1916\u001B[0m \u001B[38;5;28;01mtry\u001B[39;00m:\n\u001B[0;32m-> 1917\u001B[0m     (pid, sts) \u001B[38;5;241m=\u001B[39m \u001B[43mos\u001B[49m\u001B[38;5;241;43m.\u001B[39;49m\u001B[43mwaitpid\u001B[49m\u001B[43m(\u001B[49m\u001B[38;5;28;43mself\u001B[39;49m\u001B[38;5;241;43m.\u001B[39;49m\u001B[43mpid\u001B[49m\u001B[43m,\u001B[49m\u001B[43m \u001B[49m\u001B[43mwait_flags\u001B[49m\u001B[43m)\u001B[49m\n\u001B[1;32m   1918\u001B[0m \u001B[38;5;28;01mexcept\u001B[39;00m \u001B[38;5;167;01mChildProcessError\u001B[39;00m:\n\u001B[1;32m   1919\u001B[0m     \u001B[38;5;66;03m# This happens if SIGCLD is set to be ignored or waiting\u001B[39;00m\n\u001B[1;32m   1920\u001B[0m     \u001B[38;5;66;03m# for child processes has otherwise been disabled for our\u001B[39;00m\n\u001B[1;32m   1921\u001B[0m     \u001B[38;5;66;03m# process.  This child is dead, we can't get the status.\u001B[39;00m\n\u001B[1;32m   1922\u001B[0m     pid \u001B[38;5;241m=\u001B[39m \u001B[38;5;28mself\u001B[39m\u001B[38;5;241m.\u001B[39mpid\n",
      "\u001B[0;31mKeyboardInterrupt\u001B[0m: "
     ]
    }
   ],
   "source": [
    "while 1:\n",
    "    time.sleep(3)\n",
    "    screenshot = pyautogui.screenshot()\n",
    "    if can_play(screenshot):\n",
    "        time.sleep(1)\n",
    "        screenshot = pyautogui.screenshot()\n",
    "        map_state = MapState.screen_info(get_pa(screenshot), get_pm(screenshot), screenshot=screenshot)\n",
    "        while map_state is not None:\n",
    "            action, _ = agent.best_action(map_state)\n",
    "            map_state = do_for_real(map_state, action)\n",
    "            time.sleep(1)\n",
    "    else:\n",
    "        print(\"Searching for action to do\")"
   ],
   "metadata": {
    "collapsed": false,
    "ExecuteTime": {
     "end_time": "2024-02-08T17:57:24.238773935Z",
     "start_time": "2024-02-08T17:57:20.400162473Z"
    }
   },
   "id": "8bc2b8d7373c0ce9",
   "execution_count": 10
  }
 ],
 "metadata": {
  "kernelspec": {
   "display_name": "Python 3",
   "language": "python",
   "name": "python3"
  },
  "language_info": {
   "codemirror_mode": {
    "name": "ipython",
    "version": 2
   },
   "file_extension": ".py",
   "mimetype": "text/x-python",
   "name": "python",
   "nbconvert_exporter": "python",
   "pygments_lexer": "ipython2",
   "version": "2.7.6"
  }
 },
 "nbformat": 4,
 "nbformat_minor": 5
}
