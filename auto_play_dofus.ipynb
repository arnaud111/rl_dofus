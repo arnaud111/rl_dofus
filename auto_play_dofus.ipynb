{
 "cells": [
  {
   "cell_type": "code",
   "execution_count": 1,
   "id": "initial_id",
   "metadata": {
    "collapsed": true,
    "ExecuteTime": {
     "end_time": "2023-12-28T17:22:38.048819029Z",
     "start_time": "2023-12-28T17:22:37.627541612Z"
    }
   },
   "outputs": [],
   "source": [
    "import time\n",
    "import pyautogui\n",
    "from object.database_connection import DatabaseConnection\n",
    "from object.dofus_agent import Agent\n",
    "from object.map_state import MapState\n",
    "from utils_dofus import ACTIONS, get_player_pos, dict_swap_pos_to_array_index, dict_swap_pos_to_dofus, MONSTER, INVO, BOSS, END_TURN, base_x, base_y, step_y, step_x, box_size"
   ]
  },
  {
   "cell_type": "code",
   "outputs": [],
   "source": [
    "database = DatabaseConnection()\n",
    "agent = Agent(database, False)"
   ],
   "metadata": {
    "collapsed": false,
    "ExecuteTime": {
     "end_time": "2023-12-28T17:22:38.094856115Z",
     "start_time": "2023-12-28T17:22:38.085314479Z"
    }
   },
   "id": "d6d62c6c7fd2d15f",
   "execution_count": 2
  },
  {
   "cell_type": "code",
   "outputs": [],
   "source": [
    "def can_play(screen):\n",
    "    try:\n",
    "        if pyautogui.locate(\"data/game_images/end_turn.png\", screen) is not None:\n",
    "            return True\n",
    "    except pyautogui.ImageNotFoundException:\n",
    "        return False\n",
    "    return False"
   ],
   "metadata": {
    "collapsed": false,
    "ExecuteTime": {
     "end_time": "2023-12-28T17:22:38.119081946Z",
     "start_time": "2023-12-28T17:22:38.095976256Z"
    }
   },
   "id": "c0dee0be689ab50",
   "execution_count": 3
  },
  {
   "cell_type": "code",
   "outputs": [],
   "source": [
    "def get_pa(screen):\n",
    "    try:\n",
    "        if pyautogui.locate(\"data/game_images/pa_6.png\", screen) is not None:\n",
    "            return 6\n",
    "        if pyautogui.locate(\"data/game_images/pa_3.png\", screen) is not None:\n",
    "            return 3\n",
    "        if pyautogui.locate(\"data/game_images/pa_0.png\", screen) is not None:\n",
    "            return 0\n",
    "    except pyautogui.ImageNotFoundException:\n",
    "        return 0\n",
    "    return 0"
   ],
   "metadata": {
    "collapsed": false,
    "ExecuteTime": {
     "end_time": "2023-12-28T17:22:38.130449141Z",
     "start_time": "2023-12-28T17:22:38.104776676Z"
    }
   },
   "id": "e706cd04c478434d",
   "execution_count": 4
  },
  {
   "cell_type": "code",
   "outputs": [],
   "source": [
    "def get_pm(screen):\n",
    "    try:\n",
    "        if pyautogui.locate(\"data/game_images/pm_3.png\", screen) is not None:\n",
    "            return 3\n",
    "        if pyautogui.locate(\"data/game_images/pm_2.png\", screen) is not None:\n",
    "            return 2\n",
    "        if pyautogui.locate(\"data/game_images/pm_1.png\", screen) is not None:\n",
    "            return 1\n",
    "        if pyautogui.locate(\"data/game_images/pm_0.png\", screen) is not None:\n",
    "            return 0\n",
    "    except pyautogui.ImageNotFoundException:\n",
    "        return 0\n",
    "    return 0"
   ],
   "metadata": {
    "collapsed": false,
    "ExecuteTime": {
     "end_time": "2023-12-28T17:22:38.132292767Z",
     "start_time": "2023-12-28T17:22:38.122519930Z"
    }
   },
   "id": "a897731b0f037a06",
   "execution_count": 5
  },
  {
   "cell_type": "code",
   "outputs": [],
   "source": [
    "def center_cell(dofus_pos):\n",
    "    x = base_x + step_x * dofus_pos[0]\n",
    "    y = base_y + step_y * dofus_pos[1]\n",
    "    \n",
    "    if dofus_pos[2]:\n",
    "        x += step_x // 2\n",
    "        y += step_y // 2\n",
    "        \n",
    "    x += box_size // 2\n",
    "    y += box_size // 2\n",
    "    \n",
    "    return x, y"
   ],
   "metadata": {
    "collapsed": false,
    "ExecuteTime": {
     "end_time": "2023-12-28T17:22:38.185769914Z",
     "start_time": "2023-12-28T17:22:38.135087159Z"
    }
   },
   "id": "82a3270e8412fcc6",
   "execution_count": 6
  },
  {
   "cell_type": "code",
   "outputs": [],
   "source": [
    "def do_for_real(state, action):\n",
    "\n",
    "    clicked = ACTIONS[action]\n",
    "    player_pos = get_player_pos(map_state.map)\n",
    "\n",
    "    if player_pos == -1:\n",
    "        return False\n",
    "    \n",
    "    if clicked == END_TURN:\n",
    "        pyautogui.keyDown(\"f1\")\n",
    "        time.sleep(0.01)\n",
    "        pyautogui.keyUp(\"f1\")\n",
    "        return True\n",
    "\n",
    "    clicked_pos = player_pos[0] + clicked[0], player_pos[1] + clicked[1]\n",
    "\n",
    "    if clicked_pos not in dict_swap_pos_to_array_index.keys():\n",
    "        return False\n",
    "    \n",
    "    clicked_index = dict_swap_pos_to_array_index[clicked_pos]\n",
    "    \n",
    "    if state.map[clicked_index] == MONSTER or state.map[clicked_index] == INVO or state.map[clicked_index] == BOSS:\n",
    "        pyautogui.keyDown(\"2\")\n",
    "        time.sleep(0.01)\n",
    "        pyautogui.keyUp(\"2\")\n",
    "    \n",
    "    pyautogui.moveTo(center_cell(dict_swap_pos_to_dofus[clicked_pos]))\n",
    "    pyautogui.click()\n",
    "    \n",
    "    return True"
   ],
   "metadata": {
    "collapsed": false,
    "ExecuteTime": {
     "end_time": "2023-12-28T17:22:38.186717327Z",
     "start_time": "2023-12-28T17:22:38.177629912Z"
    }
   },
   "id": "8ed7fed8dcc51e28",
   "execution_count": 7
  },
  {
   "cell_type": "code",
   "outputs": [
    {
     "name": "stdout",
     "output_type": "stream",
     "text": [
      "Searching for action to do\n",
      "Searching for action to do\n"
     ]
    },
    {
     "ename": "KeyboardInterrupt",
     "evalue": "",
     "output_type": "error",
     "traceback": [
      "\u001B[0;31m---------------------------------------------------------------------------\u001B[0m",
      "\u001B[0;31mKeyboardInterrupt\u001B[0m                         Traceback (most recent call last)",
      "Cell \u001B[0;32mIn[8], line 4\u001B[0m\n\u001B[1;32m      2\u001B[0m time\u001B[38;5;241m.\u001B[39msleep(\u001B[38;5;241m1\u001B[39m)\n\u001B[1;32m      3\u001B[0m screenshot \u001B[38;5;241m=\u001B[39m pyautogui\u001B[38;5;241m.\u001B[39mscreenshot()\n\u001B[0;32m----> 4\u001B[0m \u001B[38;5;28;01mif\u001B[39;00m \u001B[43mcan_play\u001B[49m\u001B[43m(\u001B[49m\u001B[43mscreenshot\u001B[49m\u001B[43m)\u001B[49m:\n\u001B[1;32m      5\u001B[0m     map_state \u001B[38;5;241m=\u001B[39m MapState\u001B[38;5;241m.\u001B[39mscreen_info(get_pa(screenshot), get_pm(screenshot), screenshot\u001B[38;5;241m=\u001B[39mscreenshot)\n\u001B[1;32m      6\u001B[0m     action, _ \u001B[38;5;241m=\u001B[39m agent\u001B[38;5;241m.\u001B[39mbest_action(map_state)\n",
      "Cell \u001B[0;32mIn[3], line 3\u001B[0m, in \u001B[0;36mcan_play\u001B[0;34m(screen)\u001B[0m\n\u001B[1;32m      1\u001B[0m \u001B[38;5;28;01mdef\u001B[39;00m \u001B[38;5;21mcan_play\u001B[39m(screen):\n\u001B[1;32m      2\u001B[0m     \u001B[38;5;28;01mtry\u001B[39;00m:\n\u001B[0;32m----> 3\u001B[0m         \u001B[38;5;28;01mif\u001B[39;00m \u001B[43mpyautogui\u001B[49m\u001B[38;5;241;43m.\u001B[39;49m\u001B[43mlocate\u001B[49m\u001B[43m(\u001B[49m\u001B[38;5;124;43m\"\u001B[39;49m\u001B[38;5;124;43mdata/game_images/end_turn.png\u001B[39;49m\u001B[38;5;124;43m\"\u001B[39;49m\u001B[43m,\u001B[49m\u001B[43m \u001B[49m\u001B[43mscreen\u001B[49m\u001B[43m)\u001B[49m \u001B[38;5;129;01mis\u001B[39;00m \u001B[38;5;129;01mnot\u001B[39;00m \u001B[38;5;28;01mNone\u001B[39;00m:\n\u001B[1;32m      4\u001B[0m             \u001B[38;5;28;01mreturn\u001B[39;00m \u001B[38;5;28;01mTrue\u001B[39;00m\n\u001B[1;32m      5\u001B[0m     \u001B[38;5;28;01mexcept\u001B[39;00m pyautogui\u001B[38;5;241m.\u001B[39mImageNotFoundException:\n",
      "File \u001B[0;32m~/ESGI/RL/DofusAI/pythonProject/.venv/lib/python3.10/site-packages/pyautogui/__init__.py:172\u001B[0m, in \u001B[0;36mraisePyAutoGUIImageNotFoundException.<locals>.wrapper\u001B[0;34m(*args, **kwargs)\u001B[0m\n\u001B[1;32m    169\u001B[0m \u001B[38;5;129m@functools\u001B[39m\u001B[38;5;241m.\u001B[39mwraps(wrappedFunction)\n\u001B[1;32m    170\u001B[0m \u001B[38;5;28;01mdef\u001B[39;00m \u001B[38;5;21mwrapper\u001B[39m(\u001B[38;5;241m*\u001B[39margs, \u001B[38;5;241m*\u001B[39m\u001B[38;5;241m*\u001B[39mkwargs):\n\u001B[1;32m    171\u001B[0m     \u001B[38;5;28;01mtry\u001B[39;00m:\n\u001B[0;32m--> 172\u001B[0m         \u001B[38;5;28;01mreturn\u001B[39;00m \u001B[43mwrappedFunction\u001B[49m\u001B[43m(\u001B[49m\u001B[38;5;241;43m*\u001B[39;49m\u001B[43margs\u001B[49m\u001B[43m,\u001B[49m\u001B[43m \u001B[49m\u001B[38;5;241;43m*\u001B[39;49m\u001B[38;5;241;43m*\u001B[39;49m\u001B[43mkwargs\u001B[49m\u001B[43m)\u001B[49m\n\u001B[1;32m    173\u001B[0m     \u001B[38;5;28;01mexcept\u001B[39;00m pyscreeze\u001B[38;5;241m.\u001B[39mImageNotFoundException:\n\u001B[1;32m    174\u001B[0m         \u001B[38;5;28;01mraise\u001B[39;00m ImageNotFoundException\n",
      "File \u001B[0;32m~/ESGI/RL/DofusAI/pythonProject/.venv/lib/python3.10/site-packages/pyautogui/__init__.py:186\u001B[0m, in \u001B[0;36mlocate\u001B[0;34m(*args, **kwargs)\u001B[0m\n\u001B[1;32m    184\u001B[0m \u001B[38;5;129m@raisePyAutoGUIImageNotFoundException\u001B[39m\n\u001B[1;32m    185\u001B[0m \u001B[38;5;28;01mdef\u001B[39;00m \u001B[38;5;21mlocate\u001B[39m(\u001B[38;5;241m*\u001B[39margs, \u001B[38;5;241m*\u001B[39m\u001B[38;5;241m*\u001B[39mkwargs):\n\u001B[0;32m--> 186\u001B[0m     \u001B[38;5;28;01mreturn\u001B[39;00m \u001B[43mpyscreeze\u001B[49m\u001B[38;5;241;43m.\u001B[39;49m\u001B[43mlocate\u001B[49m\u001B[43m(\u001B[49m\u001B[38;5;241;43m*\u001B[39;49m\u001B[43margs\u001B[49m\u001B[43m,\u001B[49m\u001B[43m \u001B[49m\u001B[38;5;241;43m*\u001B[39;49m\u001B[38;5;241;43m*\u001B[39;49m\u001B[43mkwargs\u001B[49m\u001B[43m)\u001B[49m\n",
      "File \u001B[0;32m~/ESGI/RL/DofusAI/pythonProject/.venv/lib/python3.10/site-packages/pyscreeze/__init__.py:383\u001B[0m, in \u001B[0;36mlocate\u001B[0;34m(needleImage, haystackImage, **kwargs)\u001B[0m\n\u001B[1;32m    380\u001B[0m \u001B[38;5;66;03m# Note: The gymnastics in this function is because we want to make sure to exhaust the iterator so that\u001B[39;00m\n\u001B[1;32m    381\u001B[0m \u001B[38;5;66;03m# the needle and haystack files are closed in locateAll.\u001B[39;00m\n\u001B[1;32m    382\u001B[0m kwargs[\u001B[38;5;124m'\u001B[39m\u001B[38;5;124mlimit\u001B[39m\u001B[38;5;124m'\u001B[39m] \u001B[38;5;241m=\u001B[39m \u001B[38;5;241m1\u001B[39m\n\u001B[0;32m--> 383\u001B[0m points \u001B[38;5;241m=\u001B[39m \u001B[38;5;28;43mtuple\u001B[39;49m\u001B[43m(\u001B[49m\u001B[43mlocateAll\u001B[49m\u001B[43m(\u001B[49m\u001B[43mneedleImage\u001B[49m\u001B[43m,\u001B[49m\u001B[43m \u001B[49m\u001B[43mhaystackImage\u001B[49m\u001B[43m,\u001B[49m\u001B[43m \u001B[49m\u001B[38;5;241;43m*\u001B[39;49m\u001B[38;5;241;43m*\u001B[39;49m\u001B[43mkwargs\u001B[49m\u001B[43m)\u001B[49m\u001B[43m)\u001B[49m\n\u001B[1;32m    384\u001B[0m \u001B[38;5;28;01mif\u001B[39;00m \u001B[38;5;28mlen\u001B[39m(points) \u001B[38;5;241m>\u001B[39m \u001B[38;5;241m0\u001B[39m:\n\u001B[1;32m    385\u001B[0m     \u001B[38;5;28;01mreturn\u001B[39;00m points[\u001B[38;5;241m0\u001B[39m]\n",
      "File \u001B[0;32m~/ESGI/RL/DofusAI/pythonProject/.venv/lib/python3.10/site-packages/pyscreeze/__init__.py:251\u001B[0m, in \u001B[0;36m_locateAll_opencv\u001B[0;34m(needleImage, haystackImage, grayscale, limit, region, step, confidence)\u001B[0m\n\u001B[1;32m    248\u001B[0m     step \u001B[38;5;241m=\u001B[39m \u001B[38;5;241m1\u001B[39m\n\u001B[1;32m    250\u001B[0m \u001B[38;5;66;03m# get all matches at once, credit: https://stackoverflow.com/questions/7670112/finding-a-subimage-inside-a-numpy-image/9253805#9253805\u001B[39;00m\n\u001B[0;32m--> 251\u001B[0m result \u001B[38;5;241m=\u001B[39m \u001B[43mcv2\u001B[49m\u001B[38;5;241;43m.\u001B[39;49m\u001B[43mmatchTemplate\u001B[49m\u001B[43m(\u001B[49m\u001B[43mhaystackImage\u001B[49m\u001B[43m,\u001B[49m\u001B[43m \u001B[49m\u001B[43mneedleImage\u001B[49m\u001B[43m,\u001B[49m\u001B[43m \u001B[49m\u001B[43mcv2\u001B[49m\u001B[38;5;241;43m.\u001B[39;49m\u001B[43mTM_CCOEFF_NORMED\u001B[49m\u001B[43m)\u001B[49m\n\u001B[1;32m    252\u001B[0m match_indices \u001B[38;5;241m=\u001B[39m numpy\u001B[38;5;241m.\u001B[39marange(result\u001B[38;5;241m.\u001B[39msize)[(result \u001B[38;5;241m>\u001B[39m confidence)\u001B[38;5;241m.\u001B[39mflatten()]\n\u001B[1;32m    253\u001B[0m matches \u001B[38;5;241m=\u001B[39m numpy\u001B[38;5;241m.\u001B[39munravel_index(match_indices[:limit], result\u001B[38;5;241m.\u001B[39mshape)\n",
      "\u001B[0;31mKeyboardInterrupt\u001B[0m: "
     ]
    }
   ],
   "source": [
    "while 1:\n",
    "    time.sleep(1)\n",
    "    screenshot = pyautogui.screenshot()\n",
    "    if can_play(screenshot):\n",
    "        map_state = MapState.screen_info(get_pa(screenshot), get_pm(screenshot), screenshot=screenshot)\n",
    "        action, _ = agent.best_action(map_state)\n",
    "        do_for_real(map_state, action)\n",
    "    else:\n",
    "        print(\"Searching for action to do\")"
   ],
   "metadata": {
    "collapsed": false,
    "ExecuteTime": {
     "end_time": "2023-12-28T17:23:42.357677283Z",
     "start_time": "2023-12-28T17:22:38.178112019Z"
    }
   },
   "id": "8bc2b8d7373c0ce9",
   "execution_count": 8
  }
 ],
 "metadata": {
  "kernelspec": {
   "display_name": "Python 3",
   "language": "python",
   "name": "python3"
  },
  "language_info": {
   "codemirror_mode": {
    "name": "ipython",
    "version": 2
   },
   "file_extension": ".py",
   "mimetype": "text/x-python",
   "name": "python",
   "nbconvert_exporter": "python",
   "pygments_lexer": "ipython2",
   "version": "2.7.6"
  }
 },
 "nbformat": 4,
 "nbformat_minor": 5
}
