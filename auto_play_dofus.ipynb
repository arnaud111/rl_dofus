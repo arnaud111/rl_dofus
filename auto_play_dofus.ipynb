{
 "cells": [
  {
   "cell_type": "code",
   "execution_count": 11,
   "id": "initial_id",
   "metadata": {
    "collapsed": true,
    "ExecuteTime": {
     "end_time": "2023-12-27T11:06:07.861101940Z",
     "start_time": "2023-12-27T11:06:07.819272249Z"
    }
   },
   "outputs": [],
   "source": [
    "import time\n",
    "from collections import Counter\n",
    "from PIL import Image, ImageDraw\n",
    "import os\n",
    "import pyautogui\n",
    "from database_connection import DatabaseConnection\n",
    "from utils_dofus import *"
   ]
  },
  {
   "cell_type": "code",
   "outputs": [],
   "source": [
    "database = DatabaseConnection"
   ],
   "metadata": {
    "collapsed": false,
    "ExecuteTime": {
     "end_time": "2023-12-27T11:06:07.975676929Z",
     "start_time": "2023-12-27T11:06:07.923618646Z"
    }
   },
   "id": "d6d62c6c7fd2d15f",
   "execution_count": 12
  },
  {
   "cell_type": "code",
   "outputs": [],
   "source": [],
   "metadata": {
    "collapsed": false
   },
   "id": "8bc2b8d7373c0ce9"
  }
 ],
 "metadata": {
  "kernelspec": {
   "display_name": "Python 3",
   "language": "python",
   "name": "python3"
  },
  "language_info": {
   "codemirror_mode": {
    "name": "ipython",
    "version": 2
   },
   "file_extension": ".py",
   "mimetype": "text/x-python",
   "name": "python",
   "nbconvert_exporter": "python",
   "pygments_lexer": "ipython2",
   "version": "2.7.6"
  }
 },
 "nbformat": 4,
 "nbformat_minor": 5
}
