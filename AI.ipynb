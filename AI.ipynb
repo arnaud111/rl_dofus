{
 "cells": [
  {
   "cell_type": "code",
   "execution_count": 219,
   "id": "initial_id",
   "metadata": {
    "collapsed": true,
    "ExecuteTime": {
     "end_time": "2023-12-25T19:44:20.742566199Z",
     "start_time": "2023-12-25T19:44:20.725483980Z"
    }
   },
   "outputs": [],
   "source": [
    "import random\n",
    "import math\n",
    "import arcade"
   ]
  },
  {
   "cell_type": "code",
   "execution_count": 220,
   "outputs": [],
   "source": [
    "def get_pos_at_range(r):\n",
    "    \n",
    "    list_pos = []\n",
    "    \n",
    "    for i in range(r + 1):\n",
    "        if i != 0:\n",
    "            list_pos.append((0, i))\n",
    "            list_pos.append((0, -i))\n",
    "    \n",
    "        for j in range(r - i):\n",
    "            list_pos.append((1 + j, i))\n",
    "            list_pos.append((-1 - j, i))\n",
    "            \n",
    "            if i != 0:\n",
    "                list_pos.append((1 + j, -i))\n",
    "                list_pos.append((-1 - j, -i))\n",
    "    \n",
    "    return list_pos"
   ],
   "metadata": {
    "collapsed": false,
    "ExecuteTime": {
     "end_time": "2023-12-25T19:44:20.796809635Z",
     "start_time": "2023-12-25T19:44:20.746925546Z"
    }
   },
   "id": "bead7c4ef62de262"
  },
  {
   "cell_type": "code",
   "execution_count": 221,
   "outputs": [
    {
     "name": "stdout",
     "output_type": "stream",
     "text": [
      "85\n"
     ]
    }
   ],
   "source": [
    "\"\"\"\n",
    "#  #  #  #  #  #  1  #  #  #  #  #  #\n",
    "#  #  #  #  #  2  3  4  #  #  #  #  #\n",
    "#  #  #  #  5  6  7  8  9  #  #  #  #\n",
    "#  #  #  10 11 12 13 14 15 16 #  #  #\n",
    "#  #  17 18 19 20 21 22 23 24 25 #  #\n",
    "#  26 27 28 29 30 31 32 33 34 35 36 #\n",
    "37 38 39 40 41 42 -- 44 45 46 47 48 49\n",
    "#  50 51 52 53 54 55 56 57 58 59 60 #\n",
    "#  #  61 62 63 64 65 66 67 68 69 #  #\n",
    "#  #  #  70 71 72 73 74 75 76 #  #  #\n",
    "#  #  #  #  77 78 79 80 81 #  #  #  #\n",
    "#  #  #  #  #  82 83 84 #  #  #  #  #\n",
    "#  #  #  #  #  #  85 #  #  #  #  #  #\n",
    "\"\"\"\n",
    "\n",
    "END_TURN = -1\n",
    "ACTIONS = get_pos_at_range(6)\n",
    "\n",
    "ACTIONS.append(END_TURN)\n",
    "print(len(ACTIONS))"
   ],
   "metadata": {
    "collapsed": false,
    "ExecuteTime": {
     "end_time": "2023-12-25T19:44:20.811299257Z",
     "start_time": "2023-12-25T19:44:20.797631190Z"
    }
   },
   "id": "4e60aff24200cba0"
  },
  {
   "cell_type": "code",
   "execution_count": 222,
   "outputs": [],
   "source": [
    "REWARD_MOB = 16\n",
    "REWARD_END_TURN = -2\n",
    "REWARD_MOVE = -4\n",
    "REWARD_IMPOSSIBLE = -128\n",
    "REWARD_END_FIGHT = 64\n",
    "\n",
    "EMPTY_CELL = 0\n",
    "WALL = 1\n",
    "USABLE_CELL = 2\n",
    "PLAYER = 3\n",
    "MONSTER = 4\n",
    "INVO = 5\n",
    "BOSS = 6\n",
    "UNDEFINED = -1"
   ],
   "metadata": {
    "collapsed": false,
    "ExecuteTime": {
     "end_time": "2023-12-25T19:44:20.818796400Z",
     "start_time": "2023-12-25T19:44:20.810879139Z"
    }
   },
   "id": "2d873be0021563ec"
  },
  {
   "cell_type": "code",
   "execution_count": 223,
   "outputs": [],
   "source": [
    "l = 20\n",
    "h = 14\n",
    "\n",
    "base_x = 235\n",
    "base_y = 5\n",
    "\n",
    "step_x = 130\n",
    "step_y = 65\n",
    "\n",
    "box_size = 30\n",
    "\n",
    "dict_swap_dofus_to_pos = {}\n",
    "dict_swap_pos_to_dofus  = {}\n",
    "\n",
    "dict_swap_dofus_to_array_index  = {}\n",
    "dict_swap_pos_to_array_index  = {}\n",
    "\n",
    "dict_swap_array_index_to_dofus  = []\n",
    "dict_swap_array_index_to_pos  = []\n",
    "index = 0\n",
    "\n",
    "for j in range(h):\n",
    "    \n",
    "    x_start = 13 - j\n",
    "    \n",
    "    for i in range(l):\n",
    "        \n",
    "        dict_swap_dofus_to_pos[(j, i, False)] = (x_start + i, i + j)\n",
    "        dict_swap_dofus_to_pos[(j, i, True)] = (x_start + i, i + j + 1)\n",
    "        \n",
    "        dict_swap_pos_to_dofus[(x_start + i, i + j)] = (j, i, False)\n",
    "        dict_swap_pos_to_dofus[(x_start + i, i + j + 1)] = (j, i, True)\n",
    "        \n",
    "        dict_swap_dofus_to_array_index[(j, i, False)] = index\n",
    "        dict_swap_pos_to_array_index[(x_start + i, i + j)] = index\n",
    "        \n",
    "        dict_swap_array_index_to_dofus.append((j, i, False))\n",
    "        dict_swap_array_index_to_pos.append((x_start + i, i + j))\n",
    "        index += 1\n",
    "\n",
    "        dict_swap_dofus_to_array_index[(j, i, True)] = index\n",
    "        dict_swap_pos_to_array_index[(x_start + i, i + j + 1)] = index\n",
    "        dict_swap_array_index_to_dofus.append((j, i, True))\n",
    "        dict_swap_array_index_to_pos.append((x_start + i, i + j + 1))\n",
    "        \n",
    "        index += 1\n",
    "        "
   ],
   "metadata": {
    "collapsed": false,
    "ExecuteTime": {
     "end_time": "2023-12-25T19:44:20.904635451Z",
     "start_time": "2023-12-25T19:44:20.817158019Z"
    }
   },
   "id": "6e76949d72479034"
  },
  {
   "cell_type": "code",
   "execution_count": 224,
   "outputs": [],
   "source": [
    "def get_pos_at_range_possible(dict_map, start, r):\n",
    "    \n",
    "    list_pos = get_pos_at_range(r)\n",
    "    full_list_pos = []\n",
    "    for i in range(len(list_pos)):\n",
    "        \n",
    "        list_pos[i] = list_pos[i][0] + start[0], list_pos[i][1] + start[1]\n",
    "        \n",
    "        if list_pos[i] not in dict_swap_pos_to_array_index.keys():\n",
    "            continue\n",
    "    \n",
    "        if dict_map[dict_swap_pos_to_array_index[list_pos[i]]] == USABLE_CELL:\n",
    "            full_list_pos.append(list_pos[i])\n",
    "\n",
    "    return full_list_pos"
   ],
   "metadata": {
    "collapsed": false,
    "ExecuteTime": {
     "end_time": "2023-12-25T19:44:20.906552627Z",
     "start_time": "2023-12-25T19:44:20.861002183Z"
    }
   },
   "id": "feb41d560a276e00"
  },
  {
   "cell_type": "code",
   "execution_count": 225,
   "outputs": [],
   "source": [
    "def get_map(path):\n",
    "    \n",
    "    dict_map = {}\n",
    "    array_map = []\n",
    "    list_state_map = []\n",
    "    \n",
    "    with open(path, 'r') as f:\n",
    "        lines = f.readlines()\n",
    "        \n",
    "        for line in lines:\n",
    "            array_map.append(list(map(int, line.split(','))))\n",
    "    \n",
    "    for pos in dict_swap_pos_to_dofus.keys():\n",
    "        dict_map[pos] = array_map[pos[0]][pos[1]]\n",
    "        \n",
    "    for i in range(h):\n",
    "        for j in range(l):\n",
    "            list_state_map.append(dict_map[dict_swap_dofus_to_pos[(i, j, False)]])\n",
    "            list_state_map.append(dict_map[dict_swap_dofus_to_pos[(i, j, True)]])\n",
    "    \n",
    "    return list_state_map"
   ],
   "metadata": {
    "collapsed": false,
    "ExecuteTime": {
     "end_time": "2023-12-25T19:44:20.948035535Z",
     "start_time": "2023-12-25T19:44:20.891183392Z"
    }
   },
   "id": "154b568dc3b9e7a1"
  },
  {
   "cell_type": "code",
   "execution_count": 226,
   "outputs": [],
   "source": [
    "def get_random_start_map(dict_map):\n",
    "    \n",
    "    list_keys_player = []\n",
    "    list_keys_mob = []\n",
    "    \n",
    "    for key in range(len(dict_map)):\n",
    "        if dict_map[key] == 3:\n",
    "            list_keys_player.append(key)\n",
    "        elif dict_map[key] == 4:\n",
    "            list_keys_mob.append(key)\n",
    "            \n",
    "    i = random.randint(0, len(list_keys_player) - 1)\n",
    "    list_keys_player.remove(list_keys_player[i])\n",
    "    \n",
    "    for _ in range(4):\n",
    "        i = random.randint(0, len(list_keys_mob) - 1)\n",
    "        list_keys_mob.remove(list_keys_mob[i])\n",
    "        \n",
    "    for pos in list_keys_player:\n",
    "        dict_map[pos] = 2\n",
    "        \n",
    "    for pos in list_keys_mob:\n",
    "        dict_map[pos] = 2\n",
    "        \n",
    "    return dict_map"
   ],
   "metadata": {
    "collapsed": false,
    "ExecuteTime": {
     "end_time": "2023-12-25T19:44:20.981970092Z",
     "start_time": "2023-12-25T19:44:20.948833732Z"
    }
   },
   "id": "33877f6eaf7264bc"
  },
  {
   "cell_type": "code",
   "execution_count": 227,
   "outputs": [],
   "source": [
    "def get_player_pos(dict_map):\n",
    "    \n",
    "    for pos in range(len(dict_map)):\n",
    "        if dict_map[pos] == 3:\n",
    "            return dict_swap_array_index_to_pos[pos]\n",
    "        \n",
    "    return -1"
   ],
   "metadata": {
    "collapsed": false,
    "ExecuteTime": {
     "end_time": "2023-12-25T19:44:21.002299223Z",
     "start_time": "2023-12-25T19:44:20.981591221Z"
    }
   },
   "id": "1346e7f653ba86ca"
  },
  {
   "cell_type": "code",
   "execution_count": 228,
   "outputs": [],
   "source": [
    "def mob_turn(dict_map, boss_map=False):\n",
    "    \n",
    "    list_mob = []\n",
    "    have_invo = False\n",
    "    \n",
    "    for pos in range(len(dict_map)):\n",
    "        if dict_map[pos] == MONSTER:\n",
    "            list_mob.append(pos)\n",
    "        elif dict_map[pos] == INVO:\n",
    "            have_invo = True\n",
    "    \n",
    "    for mob in list_mob:\n",
    "        \n",
    "        possible_pos = get_pos_at_range_possible(dict_map, dict_swap_array_index_to_pos[mob], 3)\n",
    "        \n",
    "        if len(possible_pos) == 0:\n",
    "            continue\n",
    "\n",
    "        dict_map[mob] = USABLE_CELL\n",
    "        new_pos = dict_swap_pos_to_array_index[possible_pos[random.randint(0, len(possible_pos) - 1)]]\n",
    "        dict_map[new_pos] = MONSTER\n",
    "\n",
    "    return dict_map"
   ],
   "metadata": {
    "collapsed": false,
    "ExecuteTime": {
     "end_time": "2023-12-25T19:44:21.022849880Z",
     "start_time": "2023-12-25T19:44:21.002015436Z"
    }
   },
   "id": "a0e586b483cfe2ab"
  },
  {
   "cell_type": "code",
   "execution_count": 229,
   "outputs": [],
   "source": [
    "def map_contains_mob(dict_map):\n",
    "\n",
    "    for pos in range(len(dict_map)):\n",
    "        if dict_map[pos] == MONSTER or dict_map[pos] == INVO or dict_map[pos] == BOSS:\n",
    "            return True\n",
    "\n",
    "    return False"
   ],
   "metadata": {
    "collapsed": false,
    "ExecuteTime": {
     "end_time": "2023-12-25T19:44:21.053130960Z",
     "start_time": "2023-12-25T19:44:21.021976413Z"
    }
   },
   "id": "c09f186e16c017a2"
  },
  {
   "cell_type": "code",
   "execution_count": 230,
   "outputs": [],
   "source": [
    "def ldv(dict_map, from_pos, to_pos):\n",
    "    \n",
    "    diff = [to_pos[0] - from_pos[0], to_pos[1] - from_pos[1]]\n",
    "    tmp_from = [from_pos[0], from_pos[1]]\n",
    "    \n",
    "    if abs(diff[0]) > abs(diff[1]):\n",
    "        index_factor = 0\n",
    "        index_float = 1\n",
    "    else:\n",
    "        index_factor = 1\n",
    "        index_float = 0\n",
    "\n",
    "    factor = diff[0] / abs(diff[index_factor]), diff[1] / abs(diff[index_factor])\n",
    "    \n",
    "    while tmp_from[0] != to_pos[0] or tmp_from[1] != to_pos[1]:\n",
    "        \n",
    "\n",
    "        if not float(tmp_from[index_float]).is_integer():\n",
    "            \n",
    "            up = [0, 0]\n",
    "            down = [0, 0]\n",
    "            \n",
    "            up[index_factor] = tmp_from[index_factor]\n",
    "            down[index_factor] = tmp_from[index_factor]\n",
    "            \n",
    "            up[index_float] = math.ceil(tmp_from[index_float])\n",
    "            down[index_float] = math.floor(tmp_from[index_float])\n",
    "            \n",
    "            if tuple(up) in dict_swap_pos_to_array_index.keys():\n",
    "                up_index = dict_swap_pos_to_array_index[tuple(up)]            \n",
    "                if dict_map[up_index] == WALL or dict_map[up_index] == MONSTER or dict_map[up_index] == BOSS or dict_map[up_index] == INVO:\n",
    "                    return False\n",
    "            \n",
    "            if tuple(down) in dict_swap_pos_to_array_index.keys():\n",
    "                down_index = dict_swap_pos_to_array_index[tuple(down)]\n",
    "                if dict_map[down_index] == WALL or dict_map[down_index] == MONSTER or dict_map[down_index] == BOSS or dict_map[down_index] == INVO:\n",
    "                    return False\n",
    "        else:\n",
    "            \n",
    "            tmp_index = dict_swap_pos_to_array_index[tuple(tmp_from)]\n",
    "            \n",
    "            if dict_map[tmp_index] == WALL or dict_map[tmp_index] == MONSTER or dict_map[tmp_index] == BOSS or dict_map[tmp_index] == INVO:\n",
    "                return False\n",
    "            \n",
    "        tmp_from[0] += factor[0]\n",
    "        tmp_from[1] += factor[1]\n",
    "    \n",
    "    return True"
   ],
   "metadata": {
    "collapsed": false,
    "ExecuteTime": {
     "end_time": "2023-12-25T19:44:21.072885133Z",
     "start_time": "2023-12-25T19:44:21.052966620Z"
    }
   },
   "id": "7e0c558c4aeef0e0"
  },
  {
   "cell_type": "code",
   "execution_count": 231,
   "outputs": [],
   "source": [
    "def can_move(dict_map, from_pos, to_pos):\n",
    "    \n",
    "    diff = [to_pos[0] - from_pos[0], to_pos[1] - from_pos[1]]\n",
    "    tmp_from = [from_pos[0], from_pos[1]]\n",
    "    \n",
    "    if abs(diff[0]) > abs(diff[1]):\n",
    "        index_factor = 0\n",
    "        index_float = 1\n",
    "    else:\n",
    "        index_factor = 1\n",
    "        index_float = 0\n",
    "\n",
    "    factor = diff[0] / abs(diff[index_factor]), diff[1] / abs(diff[index_factor])\n",
    "    \n",
    "    while tmp_from[0] != to_pos[0] and tmp_from[1] != to_pos[1]:\n",
    "        if not float(tmp_from[index_float]).is_integer():\n",
    "            \n",
    "            up = [0, 0]\n",
    "            down = [0, 0]\n",
    "            \n",
    "            up[index_factor] = tmp_from[index_factor]\n",
    "            down[index_factor] = tmp_from[index_factor]\n",
    "            \n",
    "            up[index_float] = math.ceil(tmp_from[index_float])\n",
    "            down[index_float] = math.floor(tmp_from[index_float])\n",
    "            \n",
    "            if tuple(up) in dict_swap_pos_to_array_index.keys():\n",
    "                up_index = dict_swap_pos_to_array_index[tuple(up)]            \n",
    "                if dict_map[up_index] == WALL or dict_map[up_index] == MONSTER or dict_map[up_index] == BOSS or dict_map[up_index] == INVO:\n",
    "                    return False\n",
    "            \n",
    "            if tuple(down) in dict_swap_pos_to_array_index.keys():\n",
    "                down_index = dict_swap_pos_to_array_index[tuple(down)]\n",
    "                if dict_map[down_index] == WALL or dict_map[down_index] == MONSTER or dict_map[down_index] == BOSS or dict_map[down_index] == INVO:\n",
    "                    return False\n",
    "            \n",
    "        else:\n",
    "            \n",
    "            tmp_index = dict_swap_pos_to_array_index[tuple(tmp_from)]\n",
    "            \n",
    "            if dict_map[tmp_index] != USABLE_CELL:\n",
    "                return False\n",
    "\n",
    "        tmp_from[0] += factor[0]\n",
    "        tmp_from[1] += factor[1]\n",
    "    \n",
    "    return True"
   ],
   "metadata": {
    "collapsed": false,
    "ExecuteTime": {
     "end_time": "2023-12-25T19:44:21.137724634Z",
     "start_time": "2023-12-25T19:44:21.072512858Z"
    }
   },
   "id": "71e0cc037b3176ab"
  },
  {
   "cell_type": "code",
   "execution_count": 232,
   "outputs": [],
   "source": [
    "def count_pm_to_pos(dict_map, player_pos, expected_pos, max_pm):\n",
    "    \n",
    "    diff = expected_pos[0] - player_pos[0], expected_pos[1] - player_pos[1]\n",
    "    dist = abs(diff[0]) + abs(diff[1])\n",
    "    \n",
    "    if dist < max_pm and can_move(dict_map, player_pos, expected_pos):\n",
    "        return dist\n",
    "\n",
    "    return -1"
   ],
   "metadata": {
    "collapsed": false,
    "ExecuteTime": {
     "end_time": "2023-12-25T19:44:21.139106854Z",
     "start_time": "2023-12-25T19:44:21.117012894Z"
    }
   },
   "id": "baa7bea42113d08e"
  },
  {
   "cell_type": "code",
   "execution_count": 233,
   "outputs": [],
   "source": [
    "class Environment:\n",
    "    def __init__(self):\n",
    "        \n",
    "        self.map_index = random.randint(0, 4)\n",
    "        self.map = get_random_start_map(get_map(f\"./data/map_array/map_{self.map_index + 1}.txt\"))\n",
    "        \n",
    "        self.max_pa = 6\n",
    "        self.max_pm = 3\n",
    "        \n",
    "        self.pa = self.max_pa\n",
    "        self.pm = self.max_pm\n",
    "        \n",
    "    def do(self, action):\n",
    "        \n",
    "        clicked = ACTIONS[action]\n",
    "        player_pos = get_player_pos(self.map)\n",
    "        \n",
    "        if player_pos == -1:\n",
    "            exit()\n",
    "        \n",
    "        if clicked == END_TURN:\n",
    "            self.pa = self.max_pa\n",
    "            self.pm = self.max_pm\n",
    "            self.map = mob_turn(self.map, boss_map=False)\n",
    "            return REWARD_END_TURN\n",
    "        \n",
    "        clicked_pos = player_pos[0] + clicked[0], player_pos[1] + clicked[1]\n",
    "        \n",
    "        if clicked_pos not in dict_swap_pos_to_array_index.keys():\n",
    "            return REWARD_IMPOSSIBLE\n",
    "        \n",
    "        clicked_index = dict_swap_pos_to_array_index[clicked_pos]\n",
    "\n",
    "        if self.map[clicked_index] == EMPTY_CELL or self.map[clicked_index] == WALL or self.map[clicked_index] == UNDEFINED:\n",
    "            return REWARD_IMPOSSIBLE\n",
    "        \n",
    "        elif self.map[clicked_index] == MONSTER or self.map[clicked_index] == INVO or self.map[clicked_index] == BOSS:\n",
    "            \n",
    "            if self.pa < 3:\n",
    "                return REWARD_IMPOSSIBLE\n",
    "            \n",
    "            if not ldv(self.map, player_pos, clicked_pos):\n",
    "                return REWARD_IMPOSSIBLE\n",
    "            \n",
    "            self.map[clicked_index] = USABLE_CELL\n",
    "            self.pa -= 3\n",
    "            \n",
    "            if not map_contains_mob(self.map):\n",
    "                return REWARD_END_FIGHT\n",
    "            return REWARD_MOB\n",
    "        \n",
    "        elif self.map[clicked_index] == USABLE_CELL:\n",
    "            used = count_pm_to_pos(self.map, player_pos, clicked_pos, self.pm)\n",
    "            \n",
    "            if used == -1:\n",
    "                return REWARD_IMPOSSIBLE\n",
    "            \n",
    "            self.map[clicked_index] = PLAYER\n",
    "            self.map[dict_swap_pos_to_array_index[player_pos]] = USABLE_CELL\n",
    "            self.pm -= used\n",
    "            return REWARD_MOVE\n",
    "\n",
    "    @property\n",
    "    def state(self):\n",
    "        return tuple(self.map), self.pa, self.pm"
   ],
   "metadata": {
    "collapsed": false,
    "ExecuteTime": {
     "end_time": "2023-12-25T19:44:21.174061541Z",
     "start_time": "2023-12-25T19:44:21.138142498Z"
    }
   },
   "id": "c4cabead4315b28a"
  },
  {
   "cell_type": "code",
   "execution_count": 234,
   "outputs": [],
   "source": [
    "class Agent:\n",
    "    def __init__(self):\n",
    "        self.env = Environment()\n",
    "        self.score = 0\n",
    "        self.qtable = {}\n",
    "\n",
    "    def reset(self):\n",
    "        self.env = Environment()\n",
    "        self.score = 0\n",
    "        \n",
    "    def best_action(self):\n",
    "        \n",
    "        if self.env.state not in self.qtable:\n",
    "            self.qtable[self.env.state] = {}\n",
    "            for action in range(len(ACTIONS)):\n",
    "                self.qtable[self.env.state][action] = 0.0\n",
    "\n",
    "        return max(self.qtable[self.env.state], key=self.qtable[self.env.state].get)\n",
    "    \n",
    "    def do(self):\n",
    "        state = self.env.state\n",
    "        action = self.best_action()\n",
    "        \n",
    "        reward = self.env.do(action)\n",
    "        \n",
    "        self.qtable[state][action] += reward\n",
    "\n",
    "        self.score += reward\n",
    "        return reward"
   ],
   "metadata": {
    "collapsed": false,
    "ExecuteTime": {
     "end_time": "2023-12-25T19:44:21.179476863Z",
     "start_time": "2023-12-25T19:44:21.174589277Z"
    }
   },
   "id": "7b7587b57d3817d2"
  },
  {
   "cell_type": "code",
   "execution_count": 235,
   "outputs": [],
   "source": [
    "class DofusStatusWindow(arcade.Window):\n",
    "    \n",
    "    def __init__(self):\n",
    "        super().__init__(2256 // 2, 1504 // 2, \"DofusStatus\")\n",
    "        arcade.set_background_color(arcade.color.BLACK)\n",
    "        self.agent = Agent()\n",
    "        \n",
    "    def draw_box(self, x, y, color):\n",
    "        arcade.draw_rectangle_filled(x, 1504 // 2 - y, box_size // 2, box_size // 2, color)\n",
    "        \n",
    "    def on_draw(self):\n",
    "        arcade.start_render()\n",
    "        for pos in range(len(self.agent.env.map)):\n",
    "            if self.agent.env.map[pos] != 0:\n",
    "\n",
    "                dofus_pos = dict_swap_array_index_to_dofus[pos]\n",
    "\n",
    "                x = base_x + step_x * dofus_pos[0]\n",
    "                y = base_y + step_y * dofus_pos[1]\n",
    "                \n",
    "                if dofus_pos[2]:\n",
    "                    x += step_x // 2\n",
    "                    y += step_y // 2\n",
    "                \n",
    "                x = x // 2\n",
    "                y = y // 2\n",
    "                \n",
    "                if self.agent.env.map[pos] == 1:\n",
    "                    self.draw_box(x, y, arcade.color.GRAY)\n",
    "                elif self.agent.env.map[pos] == 2:\n",
    "                    self.draw_box(x, y, arcade.color.GREEN)\n",
    "                elif self.agent.env.map[pos] == 3:\n",
    "                    self.draw_box(x, y, arcade.color.BLUE)\n",
    "                elif self.agent.env.map[pos] == 4:\n",
    "                    self.draw_box(x, y, arcade.color.RED)\n",
    "                elif self.agent.env.map[pos] == 5:\n",
    "                    self.draw_box(x, y, arcade.color.YELLOW)\n",
    "                elif self.agent.env.map[pos] == 6:\n",
    "                    self.draw_box(x, y, arcade.color.ORANGE)\n",
    "                else:\n",
    "                    self.draw_box(x, y, arcade.color.AQUA)\n",
    "\n",
    "    def on_update(self, delta_time):\n",
    "        r = self.agent.do()\n",
    "        if r == REWARD_END_FIGHT:\n",
    "            self.agent.reset()\n"
   ],
   "metadata": {
    "collapsed": false,
    "ExecuteTime": {
     "end_time": "2023-12-25T19:44:21.219141648Z",
     "start_time": "2023-12-25T19:44:21.188004774Z"
    }
   },
   "id": "a4746930314eb0e8"
  },
  {
   "cell_type": "code",
   "execution_count": 236,
   "outputs": [],
   "source": [
    "window = DofusStatusWindow()\n",
    "arcade.run()"
   ],
   "metadata": {
    "collapsed": false,
    "ExecuteTime": {
     "end_time": "2023-12-25T19:44:24.903042768Z",
     "start_time": "2023-12-25T19:44:21.208745976Z"
    }
   },
   "id": "32421b6fdce78050"
  },
  {
   "cell_type": "code",
   "execution_count": null,
   "outputs": [
    {
     "name": "stdout",
     "output_type": "stream",
     "text": [
      "Score 1 : -640466\n",
      "Score 2 : -691584\n",
      "Score 3 : -731298\n",
      "Score 4 : -776456\n",
      "Score 5 : -465094\n",
      "Score 6 : -1028692\n",
      "Score 7 : -2228100\n",
      "Score 8 : -1692824\n",
      "Score 9 : -960114\n",
      "Score 10 : -695406\n",
      "Score 11 : -1059762\n",
      "Score 12 : -1160710\n",
      "Score 13 : -819052\n",
      "Score 14 : -437146\n",
      "Score 15 : -1490658\n",
      "Score 16 : -894462\n",
      "Score 17 : -787066\n",
      "Score 18 : -1137510\n",
      "Score 19 : -526190\n",
      "Score 20 : -1232884\n",
      "Score 21 : -385654\n",
      "Score 22 : -311452\n",
      "Score 23 : -380136\n",
      "Score 24 : -792560\n"
     ]
    }
   ],
   "source": [
    "agent = Agent()\n",
    "agent.score = - 1\n",
    "cnt = 0\n",
    "\n",
    "while agent.score < 0:\n",
    "\n",
    "    agent.reset()\n",
    "    \n",
    "    while agent.do() != REWARD_END_FIGHT:\n",
    "        continue\n",
    "\n",
    "    cnt += 1\n",
    "    print(f\"Score {cnt} : {agent.score}\")\n",
    "    "
   ],
   "metadata": {
    "collapsed": false,
    "is_executing": true,
    "ExecuteTime": {
     "start_time": "2023-12-25T19:44:24.977518318Z"
    }
   },
   "id": "cbdc22473835bd1c"
  },
  {
   "cell_type": "code",
   "execution_count": null,
   "outputs": [],
   "source": [
    "with open('./pod/qtable.json', 'w') as f:\n",
    "    f.write(str(agent.qtable))"
   ],
   "metadata": {
    "collapsed": false,
    "is_executing": true
   },
   "id": "d1236038ef9db153"
  },
  {
   "cell_type": "code",
   "execution_count": null,
   "outputs": [],
   "source": [
    "cnt = 1\n",
    "\n",
    "while 1:\n",
    "    \n",
    "    agent.reset()\n",
    "    \n",
    "    while agent.do() != REWARD_END_FIGHT:\n",
    "        continue\n",
    "        \n",
    "    print(f\"Score {cnt} : {agent.score}\")\n",
    "    if cnt % 5000 == 0:\n",
    "        with open(f\"./pod/qtable-{cnt // 5000}.json\", 'w') as f:\n",
    "            f.write(str(agent.qtable))\n",
    "\n",
    "    cnt += 1"
   ],
   "metadata": {
    "collapsed": false,
    "is_executing": true
   },
   "id": "fc759e8a0e12e877"
  },
  {
   "cell_type": "code",
   "execution_count": null,
   "outputs": [],
   "source": [],
   "metadata": {
    "collapsed": false,
    "is_executing": true
   },
   "id": "9ad0d7d96ee7dc8d"
  }
 ],
 "metadata": {
  "kernelspec": {
   "display_name": "Python 3",
   "language": "python",
   "name": "python3"
  },
  "language_info": {
   "codemirror_mode": {
    "name": "ipython",
    "version": 2
   },
   "file_extension": ".py",
   "mimetype": "text/x-python",
   "name": "python",
   "nbconvert_exporter": "python",
   "pygments_lexer": "ipython2",
   "version": "2.7.6"
  }
 },
 "nbformat": 4,
 "nbformat_minor": 5
}
