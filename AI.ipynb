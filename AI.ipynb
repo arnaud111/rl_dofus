{
 "cells": [
  {
   "cell_type": "code",
   "execution_count": 27,
   "id": "initial_id",
   "metadata": {
    "collapsed": true,
    "ExecuteTime": {
     "end_time": "2023-12-28T23:53:30.106000466Z",
     "start_time": "2023-12-28T23:53:30.027084844Z"
    }
   },
   "outputs": [],
   "source": [
    "import random\n",
    "import math\n",
    "import time\n",
    "import arcade\n",
    "import psycopg2"
   ]
  },
  {
   "cell_type": "code",
   "outputs": [],
   "source": [
    "dbname = 'rl_dofus'\n",
    "user = 'nono'\n",
    "password = 'azeAZE123'\n",
    "host = 'localhost'\n",
    "\n",
    "connection = psycopg2.connect(dbname=dbname, user=user, password=password, host=host)\n",
    "\n",
    "cursor = connection.cursor()"
   ],
   "metadata": {
    "collapsed": false,
    "ExecuteTime": {
     "end_time": "2023-12-28T23:53:30.138871664Z",
     "start_time": "2023-12-28T23:53:30.055904073Z"
    }
   },
   "id": "f1436934da1d1987",
   "execution_count": 28
  },
  {
   "cell_type": "code",
   "outputs": [],
   "source": [
    "#cursor.execute(\"DROP TABLE IF EXISTS qtable\")\n",
    "cursor.execute(\"CREATE TABLE IF NOT EXISTS qtable (states CHAR(562), actions INT, reward FLOAT, PRIMARY KEY (states, actions));\")\n",
    "cursor.execute(\"CREATE INDEX IF NOT EXISTS idx_state ON qtable (states);\")\n",
    "connection.commit()"
   ],
   "metadata": {
    "collapsed": false,
    "ExecuteTime": {
     "end_time": "2023-12-28T23:53:30.196111568Z",
     "start_time": "2023-12-28T23:53:30.117604674Z"
    }
   },
   "id": "a96126ce9ab662ab",
   "execution_count": 29
  },
  {
   "cell_type": "code",
   "execution_count": 30,
   "outputs": [],
   "source": [
    "def get_pos_at_range(r):\n",
    "    \n",
    "    list_pos = []\n",
    "    \n",
    "    for i in range(r + 1):\n",
    "        if i != 0:\n",
    "            list_pos.append((0, i))\n",
    "            list_pos.append((0, -i))\n",
    "    \n",
    "        for j in range(r - i):\n",
    "            list_pos.append((1 + j, i))\n",
    "            list_pos.append((-1 - j, i))\n",
    "            \n",
    "            if i != 0:\n",
    "                list_pos.append((1 + j, -i))\n",
    "                list_pos.append((-1 - j, -i))\n",
    "    \n",
    "    return list_pos"
   ],
   "metadata": {
    "collapsed": false,
    "ExecuteTime": {
     "end_time": "2023-12-28T23:53:30.230566434Z",
     "start_time": "2023-12-28T23:53:30.196734322Z"
    }
   },
   "id": "bead7c4ef62de262"
  },
  {
   "cell_type": "code",
   "execution_count": 31,
   "outputs": [
    {
     "name": "stdout",
     "output_type": "stream",
     "text": [
      "85\n"
     ]
    }
   ],
   "source": [
    "\"\"\"\n",
    "#  #  #  #  #  #  1  #  #  #  #  #  #\n",
    "#  #  #  #  #  2  3  4  #  #  #  #  #\n",
    "#  #  #  #  5  6  7  8  9  #  #  #  #\n",
    "#  #  #  10 11 12 13 14 15 16 #  #  #\n",
    "#  #  17 18 19 20 21 22 23 24 25 #  #\n",
    "#  26 27 28 29 30 31 32 33 34 35 36 #\n",
    "37 38 39 40 41 42 -- 44 45 46 47 48 49\n",
    "#  50 51 52 53 54 55 56 57 58 59 60 #\n",
    "#  #  61 62 63 64 65 66 67 68 69 #  #\n",
    "#  #  #  70 71 72 73 74 75 76 #  #  #\n",
    "#  #  #  #  77 78 79 80 81 #  #  #  #\n",
    "#  #  #  #  #  82 83 84 #  #  #  #  #\n",
    "#  #  #  #  #  #  85 #  #  #  #  #  #\n",
    "\"\"\"\n",
    "\n",
    "END_TURN = -1\n",
    "ACTIONS = get_pos_at_range(6)\n",
    "\n",
    "ACTIONS.append(END_TURN)\n",
    "print(len(ACTIONS))"
   ],
   "metadata": {
    "collapsed": false,
    "ExecuteTime": {
     "end_time": "2023-12-28T23:53:30.257187562Z",
     "start_time": "2023-12-28T23:53:30.213920351Z"
    }
   },
   "id": "4e60aff24200cba0"
  },
  {
   "cell_type": "code",
   "outputs": [],
   "source": [
    "def insert_new_state(state):\n",
    "    for action in range(len(ACTIONS)):\n",
    "        cursor.execute(\"INSERT INTO qtable(states, actions, reward) VALUES (%s, %s, 0)\", (state, action))\n",
    "    connection.commit()"
   ],
   "metadata": {
    "collapsed": false,
    "ExecuteTime": {
     "end_time": "2023-12-28T23:53:30.303929173Z",
     "start_time": "2023-12-28T23:53:30.252669445Z"
    }
   },
   "id": "e4e8f5c867762451",
   "execution_count": 32
  },
  {
   "cell_type": "code",
   "outputs": [],
   "source": [
    "def get_max_action_state(state):\n",
    "    cursor.execute(\"SELECT actions FROM qtable WHERE states = %s ORDER BY reward DESC\", (state,))\n",
    "    returned = cursor.fetchall()\n",
    "    if len(returned) == 0:\n",
    "        return None\n",
    "    return returned[0][0]    "
   ],
   "metadata": {
    "collapsed": false,
    "ExecuteTime": {
     "end_time": "2023-12-28T23:53:30.339601826Z",
     "start_time": "2023-12-28T23:53:30.288322322Z"
    }
   },
   "id": "e961bb57a9f46ad2",
   "execution_count": 33
  },
  {
   "cell_type": "code",
   "outputs": [],
   "source": [
    "def add_reward(state, action, reward):\n",
    "    cursor.execute(\"UPDATE qtable SET reward = reward + %s WHERE states = %s AND actions = %s RETURNING reward\", (reward, state, action))\n",
    "    \n",
    "    returned = cursor.fetchall()\n",
    "    connection.commit()\n",
    "    \n",
    "    return returned[0][0]"
   ],
   "metadata": {
    "collapsed": false,
    "ExecuteTime": {
     "end_time": "2023-12-28T23:53:30.357828503Z",
     "start_time": "2023-12-28T23:53:30.333381297Z"
    }
   },
   "id": "72a9d9705061b6c2",
   "execution_count": 34
  },
  {
   "cell_type": "code",
   "outputs": [],
   "source": [
    "def compute_reward(state, action, reward, last):\n",
    "    cursor.execute(\"UPDATE qtable SET reward = reward + %s *(%s + %s * %s - reward) WHERE states = %s AND actions = %s RETURNING reward\", (learning_rate, reward, decrease_factor, last, state, action))\n",
    "    \n",
    "    returned = cursor.fetchall()\n",
    "    connection.commit()\n",
    "    \n",
    "    return returned[0][0]"
   ],
   "metadata": {
    "collapsed": false,
    "ExecuteTime": {
     "end_time": "2023-12-28T23:53:30.487636232Z",
     "start_time": "2023-12-28T23:53:30.341401219Z"
    }
   },
   "id": "456bdb306b645be9",
   "execution_count": 35
  },
  {
   "cell_type": "code",
   "execution_count": 36,
   "outputs": [],
   "source": [
    "REWARD_MOB = 16\n",
    "REWARD_END_TURN = -1\n",
    "REWARD_END_TURN_WITHOUT_ACTION = -16\n",
    "REWARD_MOVE = -2\n",
    "REWARD_IMPOSSIBLE = -128\n",
    "REWARD_END_FIGHT = 64\n",
    "\n",
    "EMPTY_CELL = 0\n",
    "WALL = 1\n",
    "USABLE_CELL = 2\n",
    "PLAYER = 3\n",
    "MONSTER = 4\n",
    "INVO = 5\n",
    "BOSS = 6\n",
    "UNDEFINED = -1\n",
    "\n",
    "MAX_PA = 6\n",
    "MAX_PM = 3\n",
    "\n",
    "learning_rate = 1\n",
    "decrease_factor = 0.5\n",
    "random_action = 0.01"
   ],
   "metadata": {
    "collapsed": false,
    "ExecuteTime": {
     "end_time": "2023-12-28T23:53:30.494553938Z",
     "start_time": "2023-12-28T23:53:30.421264878Z"
    }
   },
   "id": "2d873be0021563ec"
  },
  {
   "cell_type": "code",
   "execution_count": 37,
   "outputs": [],
   "source": [
    "l = 20\n",
    "h = 14\n",
    "\n",
    "base_x = 235\n",
    "base_y = 5\n",
    "\n",
    "step_x = 130\n",
    "step_y = 65\n",
    "\n",
    "box_size = 30\n",
    "\n",
    "dict_swap_dofus_to_pos = {}\n",
    "dict_swap_pos_to_dofus  = {}\n",
    "\n",
    "dict_swap_dofus_to_array_index  = {}\n",
    "dict_swap_pos_to_array_index  = {}\n",
    "\n",
    "dict_swap_array_index_to_dofus  = []\n",
    "dict_swap_array_index_to_pos  = []\n",
    "index = 0\n",
    "\n",
    "for j in range(h):\n",
    "    \n",
    "    x_start = 13 - j\n",
    "    \n",
    "    for i in range(l):\n",
    "        \n",
    "        dict_swap_dofus_to_pos[(j, i, False)] = (x_start + i, i + j)\n",
    "        dict_swap_dofus_to_pos[(j, i, True)] = (x_start + i, i + j + 1)\n",
    "        \n",
    "        dict_swap_pos_to_dofus[(x_start + i, i + j)] = (j, i, False)\n",
    "        dict_swap_pos_to_dofus[(x_start + i, i + j + 1)] = (j, i, True)\n",
    "        \n",
    "        dict_swap_dofus_to_array_index[(j, i, False)] = index\n",
    "        dict_swap_pos_to_array_index[(x_start + i, i + j)] = index\n",
    "        \n",
    "        dict_swap_array_index_to_dofus.append((j, i, False))\n",
    "        dict_swap_array_index_to_pos.append((x_start + i, i + j))\n",
    "        index += 1\n",
    "\n",
    "        dict_swap_dofus_to_array_index[(j, i, True)] = index\n",
    "        dict_swap_pos_to_array_index[(x_start + i, i + j + 1)] = index\n",
    "        dict_swap_array_index_to_dofus.append((j, i, True))\n",
    "        dict_swap_array_index_to_pos.append((x_start + i, i + j + 1))\n",
    "        \n",
    "        index += 1\n",
    "        "
   ],
   "metadata": {
    "collapsed": false,
    "ExecuteTime": {
     "end_time": "2023-12-28T23:53:30.579851780Z",
     "start_time": "2023-12-28T23:53:30.469696115Z"
    }
   },
   "id": "6e76949d72479034"
  },
  {
   "cell_type": "code",
   "execution_count": 38,
   "outputs": [],
   "source": [
    "def get_pos_at_range_possible(map_array, start, r):\n",
    "    \n",
    "    list_pos = get_pos_at_range(r)\n",
    "    full_list_pos = []\n",
    "    for i in range(len(list_pos)):\n",
    "        \n",
    "        list_pos[i] = list_pos[i][0] + start[0], list_pos[i][1] + start[1]\n",
    "        \n",
    "        if list_pos[i] not in dict_swap_pos_to_array_index.keys():\n",
    "            continue\n",
    "    \n",
    "        if map_array[dict_swap_pos_to_array_index[list_pos[i]]] == USABLE_CELL:\n",
    "            full_list_pos.append(list_pos[i])\n",
    "\n",
    "    return full_list_pos"
   ],
   "metadata": {
    "collapsed": false,
    "ExecuteTime": {
     "end_time": "2023-12-28T23:53:30.676341522Z",
     "start_time": "2023-12-28T23:53:30.555993430Z"
    }
   },
   "id": "feb41d560a276e00"
  },
  {
   "cell_type": "code",
   "execution_count": 39,
   "outputs": [],
   "source": [
    "def get_map(path):\n",
    "    \n",
    "    dict_map = {}\n",
    "    array_map = []\n",
    "    list_state_map = []\n",
    "    \n",
    "    with open(path, 'r') as f:\n",
    "        lines = f.readlines()\n",
    "        \n",
    "        for line in lines:\n",
    "            array_map.append(list(map(int, line.split(','))))\n",
    "    \n",
    "    for pos in dict_swap_pos_to_dofus.keys():\n",
    "        dict_map[pos] = array_map[pos[0]][pos[1]]\n",
    "        \n",
    "    for i in range(h):\n",
    "        for j in range(l):\n",
    "            list_state_map.append(dict_map[dict_swap_dofus_to_pos[(i, j, False)]])\n",
    "            list_state_map.append(dict_map[dict_swap_dofus_to_pos[(i, j, True)]])\n",
    "    \n",
    "    return list_state_map"
   ],
   "metadata": {
    "collapsed": false,
    "ExecuteTime": {
     "end_time": "2023-12-28T23:53:30.677962769Z",
     "start_time": "2023-12-28T23:53:30.607650352Z"
    }
   },
   "id": "154b568dc3b9e7a1"
  },
  {
   "cell_type": "code",
   "execution_count": 40,
   "outputs": [],
   "source": [
    "def get_random_start_map(map_array):\n",
    "    \n",
    "    list_keys_player = []\n",
    "    list_keys_mob = []\n",
    "    \n",
    "    for key in range(len(map_array)):\n",
    "        if map_array[key] == 3:\n",
    "            list_keys_player.append(key)\n",
    "        elif map_array[key] == 4:\n",
    "            list_keys_mob.append(key)\n",
    "\n",
    "    i = random.randint(0, len(list_keys_player) - 1)\n",
    "    list_keys_player.remove(list_keys_player[i])\n",
    "\n",
    "    for _ in range(4):\n",
    "        i = random.randint(0, len(list_keys_mob) - 1)\n",
    "        list_keys_mob.remove(list_keys_mob[i])\n",
    "\n",
    "    for pos in list_keys_player:\n",
    "        map_array[pos] = 2\n",
    "\n",
    "    for pos in list_keys_mob:\n",
    "        map_array[pos] = 2\n",
    "\n",
    "    return map_array"
   ],
   "metadata": {
    "collapsed": false,
    "ExecuteTime": {
     "end_time": "2023-12-28T23:53:30.753056173Z",
     "start_time": "2023-12-28T23:53:30.670694100Z"
    }
   },
   "id": "33877f6eaf7264bc"
  },
  {
   "cell_type": "code",
   "execution_count": 41,
   "outputs": [],
   "source": [
    "def get_player_pos(map_array):\n",
    "    \n",
    "    for pos in range(len(map_array)):\n",
    "        if map_array[pos] == 3:\n",
    "            return dict_swap_array_index_to_pos[pos]\n",
    "        \n",
    "    return -1"
   ],
   "metadata": {
    "collapsed": false,
    "ExecuteTime": {
     "end_time": "2023-12-28T23:53:30.757187413Z",
     "start_time": "2023-12-28T23:53:30.733502337Z"
    }
   },
   "id": "1346e7f653ba86ca"
  },
  {
   "cell_type": "code",
   "execution_count": 42,
   "outputs": [],
   "source": [
    "def mob_turn(map_array, invo=False):\n",
    "    \n",
    "    list_mob = []\n",
    "    \n",
    "    for pos in range(len(map_array)):\n",
    "        if map_array[pos] == MONSTER:\n",
    "            list_mob.append(pos)\n",
    "    \n",
    "    for mob in list_mob:\n",
    "        \n",
    "        possible_pos = get_pos_at_range_possible(map_array, dict_swap_array_index_to_pos[mob], 3)\n",
    "        \n",
    "        if len(possible_pos) == 0:\n",
    "            continue\n",
    "\n",
    "        map_array[mob] = USABLE_CELL\n",
    "        new_pos = dict_swap_pos_to_array_index[possible_pos[random.randint(0, len(possible_pos) - 1)]]\n",
    "        map_array[new_pos] = MONSTER\n",
    "\n",
    "    return map_array"
   ],
   "metadata": {
    "collapsed": false,
    "ExecuteTime": {
     "end_time": "2023-12-28T23:53:30.844621332Z",
     "start_time": "2023-12-28T23:53:30.752327276Z"
    }
   },
   "id": "a0e586b483cfe2ab"
  },
  {
   "cell_type": "code",
   "execution_count": 43,
   "outputs": [],
   "source": [
    "def map_contains_mob(map_array):\n",
    "\n",
    "    for pos in range(len(map_array)):\n",
    "        if map_array[pos] == MONSTER or map_array[pos] == INVO or map_array[pos] == BOSS:\n",
    "            return True\n",
    "\n",
    "    return False"
   ],
   "metadata": {
    "collapsed": false,
    "ExecuteTime": {
     "end_time": "2023-12-28T23:53:30.848268264Z",
     "start_time": "2023-12-28T23:53:30.825395994Z"
    }
   },
   "id": "c09f186e16c017a2"
  },
  {
   "cell_type": "code",
   "execution_count": 44,
   "outputs": [],
   "source": [
    "def ldv(map_array, from_pos, to_pos):\n",
    "    \n",
    "    diff = [to_pos[0] - from_pos[0], to_pos[1] - from_pos[1]]\n",
    "    tmp_from = [from_pos[0], from_pos[1]]\n",
    "    \n",
    "    if abs(diff[0]) > abs(diff[1]):\n",
    "        index_factor = 0\n",
    "        index_float = 1\n",
    "    else:\n",
    "        index_factor = 1\n",
    "        index_float = 0\n",
    "\n",
    "    factor = diff[0] / abs(diff[index_factor]), diff[1] / abs(diff[index_factor])\n",
    "    \n",
    "    while tmp_from[0] != to_pos[0] or tmp_from[1] != to_pos[1]:\n",
    "        \n",
    "\n",
    "        if not float(tmp_from[index_float]).is_integer():\n",
    "            \n",
    "            up = [0, 0]\n",
    "            down = [0, 0]\n",
    "            \n",
    "            up[index_factor] = tmp_from[index_factor]\n",
    "            down[index_factor] = tmp_from[index_factor]\n",
    "            \n",
    "            up[index_float] = math.ceil(tmp_from[index_float])\n",
    "            down[index_float] = math.floor(tmp_from[index_float])\n",
    "            \n",
    "            if tuple(up) in dict_swap_pos_to_array_index.keys():\n",
    "                up_index = dict_swap_pos_to_array_index[tuple(up)]            \n",
    "                if map_array[up_index] == WALL or map_array[up_index] == MONSTER or map_array[up_index] == BOSS or map_array[up_index] == INVO:\n",
    "                    return False\n",
    "            \n",
    "            if tuple(down) in dict_swap_pos_to_array_index.keys():\n",
    "                down_index = dict_swap_pos_to_array_index[tuple(down)]\n",
    "                if map_array[down_index] == WALL or map_array[down_index] == MONSTER or map_array[down_index] == BOSS or map_array[down_index] == INVO:\n",
    "                    return False\n",
    "        else:\n",
    "            \n",
    "            tmp_index = dict_swap_pos_to_array_index[tuple(tmp_from)]\n",
    "            \n",
    "            if map_array[tmp_index] == WALL or map_array[tmp_index] == MONSTER or map_array[tmp_index] == BOSS or map_array[tmp_index] == INVO:\n",
    "                return False\n",
    "            \n",
    "        tmp_from[0] += factor[0]\n",
    "        tmp_from[1] += factor[1]\n",
    "    \n",
    "    return True"
   ],
   "metadata": {
    "collapsed": false,
    "ExecuteTime": {
     "end_time": "2023-12-28T23:53:30.911097011Z",
     "start_time": "2023-12-28T23:53:30.844914962Z"
    }
   },
   "id": "7e0c558c4aeef0e0"
  },
  {
   "cell_type": "code",
   "execution_count": 45,
   "outputs": [],
   "source": [
    "def can_move(map_array, from_pos, to_pos):\n",
    "    \n",
    "    diff = [to_pos[0] - from_pos[0], to_pos[1] - from_pos[1]]\n",
    "    tmp_from = [from_pos[0], from_pos[1]]\n",
    "    \n",
    "    if abs(diff[0]) > abs(diff[1]):\n",
    "        index_factor = 0\n",
    "        index_float = 1\n",
    "    else:\n",
    "        index_factor = 1\n",
    "        index_float = 0\n",
    "\n",
    "    factor = diff[0] / abs(diff[index_factor]), diff[1] / abs(diff[index_factor])\n",
    "    \n",
    "    while tmp_from[0] != to_pos[0] and tmp_from[1] != to_pos[1]:\n",
    "        if not float(tmp_from[index_float]).is_integer():\n",
    "            \n",
    "            up = [0, 0]\n",
    "            down = [0, 0]\n",
    "            \n",
    "            up[index_factor] = tmp_from[index_factor]\n",
    "            down[index_factor] = tmp_from[index_factor]\n",
    "            \n",
    "            up[index_float] = math.ceil(tmp_from[index_float])\n",
    "            down[index_float] = math.floor(tmp_from[index_float])\n",
    "            \n",
    "            if tuple(up) in dict_swap_pos_to_array_index.keys():\n",
    "                up_index = dict_swap_pos_to_array_index[tuple(up)]            \n",
    "                if map_array[up_index] == WALL or map_array[up_index] == MONSTER or map_array[up_index] == BOSS or map_array[up_index] == INVO:\n",
    "                    return False\n",
    "            \n",
    "            if tuple(down) in dict_swap_pos_to_array_index.keys():\n",
    "                down_index = dict_swap_pos_to_array_index[tuple(down)]\n",
    "                if map_array[down_index] == WALL or map_array[down_index] == MONSTER or map_array[down_index] == BOSS or map_array[down_index] == INVO:\n",
    "                    return False\n",
    "            \n",
    "        else:\n",
    "            \n",
    "            tmp_index = dict_swap_pos_to_array_index[tuple(tmp_from)]\n",
    "            \n",
    "            if map_array[tmp_index] != USABLE_CELL:\n",
    "                return False\n",
    "\n",
    "        tmp_from[0] += factor[0]\n",
    "        tmp_from[1] += factor[1]\n",
    "    \n",
    "    return True"
   ],
   "metadata": {
    "collapsed": false,
    "ExecuteTime": {
     "end_time": "2023-12-28T23:53:30.957857542Z",
     "start_time": "2023-12-28T23:53:30.892695590Z"
    }
   },
   "id": "71e0cc037b3176ab"
  },
  {
   "cell_type": "code",
   "execution_count": 46,
   "outputs": [],
   "source": [
    "def count_pm_to_pos(map_array, player_pos, expected_pos, max_pm):\n",
    "    \n",
    "    diff = expected_pos[0] - player_pos[0], expected_pos[1] - player_pos[1]\n",
    "    dist = abs(diff[0]) + abs(diff[1])\n",
    "    \n",
    "    if dist < max_pm and can_move(map_array, player_pos, expected_pos):\n",
    "        return dist\n",
    "\n",
    "    return -1"
   ],
   "metadata": {
    "collapsed": false,
    "ExecuteTime": {
     "end_time": "2023-12-28T23:53:30.989342211Z",
     "start_time": "2023-12-28T23:53:30.933550230Z"
    }
   },
   "id": "baa7bea42113d08e"
  },
  {
   "cell_type": "code",
   "outputs": [],
   "source": [
    "class MapState:\n",
    "    \n",
    "    def __init__(self, pa, pm, map, map_index):\n",
    "\n",
    "        self.map = map\n",
    "        self.map_index = map_index\n",
    "        self.pa = pa\n",
    "        self.pm = pm\n",
    "        \n",
    "    def clone(self):\n",
    "        \n",
    "        new_map = []\n",
    "        \n",
    "        for i in range(len(self.map)):\n",
    "            new_map.append(self.map[i])\n",
    "        \n",
    "        return MapState(self.pa, self.pm, new_map, self.map_index)\n",
    "\n",
    "    @staticmethod\n",
    "    def generate():\n",
    "\n",
    "        #self.map_index = random.randint(0, 4)\n",
    "        map_index = 0\n",
    "        map = get_random_start_map(get_map(f\"./data/map_array/map_{map_index + 1}.txt\"))\n",
    "        \n",
    "        return MapState(MAX_PA, MAX_PM, map, map_index)\n",
    "\n",
    "    @property\n",
    "    def state(self):\n",
    "\n",
    "        state = \"\"\n",
    "        for i in range(len(self.map)):\n",
    "            state += str(self.map[i])\n",
    "\n",
    "        state += str(self.pa)\n",
    "        state += str(self.pm)\n",
    "\n",
    "        return state"
   ],
   "metadata": {
    "collapsed": false,
    "ExecuteTime": {
     "end_time": "2023-12-28T23:53:31.049116900Z",
     "start_time": "2023-12-28T23:53:30.966724216Z"
    }
   },
   "id": "e44687c33d0e614",
   "execution_count": 47
  },
  {
   "cell_type": "code",
   "execution_count": 48,
   "outputs": [],
   "source": [
    "class Environment:\n",
    "    \n",
    "    def do(self, map_state, action):\n",
    "        \n",
    "        clicked = ACTIONS[action]\n",
    "        player_pos = get_player_pos(map_state.map)\n",
    "        new_state = map_state.clone()\n",
    "        \n",
    "        if player_pos == -1:\n",
    "            exit()\n",
    "        \n",
    "        if clicked == END_TURN:\n",
    "            reward = REWARD_END_TURN\n",
    "            if new_state.pm == MAX_PM and new_state.pa == MAX_PA:\n",
    "                reward = REWARD_END_TURN_WITHOUT_ACTION\n",
    "            new_state.pa = MAX_PA\n",
    "            new_state.pm = MAX_PM\n",
    "            new_state.map = mob_turn(new_state.map, invo=False)\n",
    "            return reward, new_state\n",
    "        \n",
    "        clicked_pos = player_pos[0] + clicked[0], player_pos[1] + clicked[1]\n",
    "        \n",
    "        if clicked_pos not in dict_swap_pos_to_array_index.keys():\n",
    "            return REWARD_IMPOSSIBLE, new_state\n",
    "        \n",
    "        clicked_index = dict_swap_pos_to_array_index[clicked_pos]\n",
    "\n",
    "        if new_state.map[clicked_index] == EMPTY_CELL or new_state.map[clicked_index] == WALL or new_state.map[clicked_index] == UNDEFINED:\n",
    "            return REWARD_IMPOSSIBLE, new_state\n",
    "        \n",
    "        elif new_state.map[clicked_index] == MONSTER or new_state.map[clicked_index] == INVO or new_state.map[clicked_index] == BOSS:\n",
    "            \n",
    "            if new_state.pa < 3:\n",
    "                return REWARD_IMPOSSIBLE, new_state\n",
    "            \n",
    "            if not ldv(new_state.map, player_pos, clicked_pos):\n",
    "                return REWARD_IMPOSSIBLE, new_state\n",
    "            \n",
    "            new_state.map[clicked_index] = USABLE_CELL\n",
    "            new_state.pa -= 3\n",
    "            \n",
    "            if not map_contains_mob(new_state.map):\n",
    "                return REWARD_END_FIGHT, new_state\n",
    "            return REWARD_MOB, new_state\n",
    "        \n",
    "        elif new_state.map[clicked_index] == USABLE_CELL:\n",
    "            used = count_pm_to_pos(new_state.map, player_pos, clicked_pos, new_state.pm)\n",
    "            \n",
    "            if used == -1:\n",
    "                return REWARD_IMPOSSIBLE, new_state\n",
    "            \n",
    "            new_state.map[clicked_index] = PLAYER\n",
    "            new_state.map[dict_swap_pos_to_array_index[player_pos]] = USABLE_CELL\n",
    "            new_state.pm -= used\n",
    "            return REWARD_MOVE, new_state\n"
   ],
   "metadata": {
    "collapsed": false,
    "ExecuteTime": {
     "end_time": "2023-12-28T23:53:31.109109566Z",
     "start_time": "2023-12-28T23:53:31.033724322Z"
    }
   },
   "id": "c4cabead4315b28a"
  },
  {
   "cell_type": "code",
   "execution_count": 49,
   "outputs": [],
   "source": [
    "class Agent:\n",
    "    \n",
    "    def __init__(self):\n",
    "        self.env = Environment()\n",
    "        self.map_state = MapState.generate()\n",
    "        self.score = 0\n",
    "        self.list_actions = []\n",
    "\n",
    "    def reset(self):\n",
    "        self.map_state = MapState.generate()\n",
    "        self.score = 0\n",
    "        if len(self.list_actions) > 0:\n",
    "            self.back_propagation()\n",
    "        self.list_actions = []\n",
    "        \n",
    "    def do_all(self, state):\n",
    "        for action in range(len(ACTIONS)):\n",
    "            reward, new_state = self.env.do(self.map_state, action)\n",
    "            add_reward(state, action, reward)\n",
    "        \n",
    "    def best_action(self, state):\n",
    "\n",
    "        action = get_max_action_state(state)\n",
    "        if action is None:\n",
    "            insert_new_state(state)\n",
    "            self.do_all(state)\n",
    "            action = get_max_action_state(state)\n",
    "\n",
    "        if random.uniform(0, 1) < random_action:\n",
    "            return random.randint(0, len(ACTIONS) - 1), True\n",
    "\n",
    "        return action, False\n",
    "    \n",
    "    def back_propagation(self):\n",
    "        \n",
    "        last = add_reward(self.list_actions[-1][0], self.list_actions[-1][1], self.list_actions[-1][2])\n",
    "        for i in range(len(self.list_actions) - 2, -1, -1):\n",
    "            last = compute_reward(self.list_actions[i][0], self.list_actions[i][1], self.list_actions[i][2], last)\n",
    "    \n",
    "    def do(self):\n",
    "        action, randomed = self.best_action(self.map_state.state)\n",
    "        \n",
    "        reward, new_state = self.env.do(self.map_state, action)\n",
    "        \n",
    "        if randomed and self.map_state.state == new_state.state:\n",
    "            return reward\n",
    "\n",
    "        self.list_actions.append((self.map_state.state, action, reward))\n",
    "        self.score += reward\n",
    "\n",
    "        self.map_state = new_state\n",
    "\n",
    "        return reward"
   ],
   "metadata": {
    "collapsed": false,
    "ExecuteTime": {
     "end_time": "2023-12-28T23:53:31.179525143Z",
     "start_time": "2023-12-28T23:53:31.092796731Z"
    }
   },
   "id": "7b7587b57d3817d2"
  },
  {
   "cell_type": "code",
   "execution_count": 50,
   "outputs": [],
   "source": [
    "class DofusStatusWindow(arcade.Window):\n",
    "    \n",
    "    def __init__(self):\n",
    "        super().__init__(2256 // 2, 1504 // 2, \"DofusStatus\")\n",
    "        arcade.set_background_color(arcade.color.BLACK)\n",
    "        self.agent = Agent()\n",
    "        \n",
    "    def draw_box(self, x, y, color):\n",
    "        arcade.draw_rectangle_filled(x, 1504 // 2 - y, box_size // 2, box_size // 2, color)\n",
    "        \n",
    "    def on_draw(self):\n",
    "        arcade.start_render()\n",
    "        for pos in range(len(self.agent.map_state.map)):\n",
    "            if self.agent.map_state.map[pos] != 0:\n",
    "\n",
    "                dofus_pos = dict_swap_array_index_to_dofus[pos]\n",
    "\n",
    "                x = base_x + step_x * dofus_pos[0]\n",
    "                y = base_y + step_y * dofus_pos[1]\n",
    "                \n",
    "                if dofus_pos[2]:\n",
    "                    x += step_x // 2\n",
    "                    y += step_y // 2\n",
    "                \n",
    "                x = x // 2\n",
    "                y = y // 2\n",
    "                \n",
    "                if self.agent.map_state.map[pos] == 1:\n",
    "                    self.draw_box(x, y, arcade.color.GRAY)\n",
    "                elif self.agent.map_state.map[pos] == 2:\n",
    "                    self.draw_box(x, y, arcade.color.GREEN)\n",
    "                elif self.agent.map_state.map[pos] == 3:\n",
    "                    self.draw_box(x, y, arcade.color.BLUE)\n",
    "                elif self.agent.map_state.map[pos] == 4:\n",
    "                    self.draw_box(x, y, arcade.color.RED)\n",
    "                elif self.agent.map_state.map[pos] == 5:\n",
    "                    self.draw_box(x, y, arcade.color.YELLOW)\n",
    "                elif self.agent.map_state.map[pos] == 6:\n",
    "                    self.draw_box(x, y, arcade.color.ORANGE)\n",
    "                else:\n",
    "                    self.draw_box(x, y, arcade.color.AQUA)\n",
    "\n",
    "    def on_update(self, delta_time):\n",
    "        r = self.agent.do()\n",
    "        if r == REWARD_END_FIGHT:\n",
    "            self.agent.reset()\n"
   ],
   "metadata": {
    "collapsed": false,
    "ExecuteTime": {
     "end_time": "2023-12-28T23:53:31.220478484Z",
     "start_time": "2023-12-28T23:53:31.161730125Z"
    }
   },
   "id": "a4746930314eb0e8"
  },
  {
   "cell_type": "code",
   "execution_count": null,
   "outputs": [],
   "source": [
    "window = DofusStatusWindow()\n",
    "arcade.run()"
   ],
   "metadata": {
    "collapsed": false,
    "is_executing": true,
    "ExecuteTime": {
     "start_time": "2023-12-28T23:53:31.205528443Z"
    }
   },
   "id": "32421b6fdce78050"
  },
  {
   "cell_type": "code",
   "execution_count": null,
   "outputs": [],
   "source": [
    "agent = Agent()\n",
    "agent.score = -1\n",
    "cnt = 0\n",
    "\n",
    "while 1:\n",
    "\n",
    "    agent.reset()\n",
    "    \n",
    "    while agent.do() != REWARD_END_FIGHT:\n",
    "        continue\n",
    "\n",
    "    cnt += 1\n",
    "    print(f\"Score {cnt} : {agent.score}\")\n",
    "    "
   ],
   "metadata": {
    "collapsed": false,
    "is_executing": true
   },
   "id": "cbdc22473835bd1c"
  }
 ],
 "metadata": {
  "kernelspec": {
   "display_name": "Python 3",
   "language": "python",
   "name": "python3"
  },
  "language_info": {
   "codemirror_mode": {
    "name": "ipython",
    "version": 2
   },
   "file_extension": ".py",
   "mimetype": "text/x-python",
   "name": "python",
   "nbconvert_exporter": "python",
   "pygments_lexer": "ipython2",
   "version": "2.7.6"
  }
 },
 "nbformat": 4,
 "nbformat_minor": 5
}
