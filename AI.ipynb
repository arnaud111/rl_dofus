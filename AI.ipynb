{
 "cells": [
  {
   "cell_type": "code",
   "execution_count": 1,
   "id": "initial_id",
   "metadata": {
    "collapsed": true,
    "ExecuteTime": {
     "end_time": "2023-12-23T15:16:29.894679983Z",
     "start_time": "2023-12-23T15:16:29.893544180Z"
    }
   },
   "outputs": [],
   "source": [
    "import random\n",
    "from random import *"
   ]
  },
  {
   "cell_type": "code",
   "execution_count": 14,
   "outputs": [
    {
     "name": "stdout",
     "output_type": "stream",
     "text": [
      "85\n"
     ]
    }
   ],
   "source": [
    "\"\"\"\n",
    "#  #  #  #  #  #  1  #  #  #  #  #  #\n",
    "#  #  #  #  #  2  3  4  #  #  #  #  #\n",
    "#  #  #  #  5  6  7  8  9  #  #  #  #\n",
    "#  #  #  10 11 12 13 14 15 16 #  #  #\n",
    "#  #  17 18 19 20 21 22 23 24 25 #  #\n",
    "#  26 27 28 29 30 31 32 33 34 35 36 #\n",
    "37 38 39 40 41 42 -- 44 45 46 47 48 49\n",
    "#  50 51 52 53 54 55 56 57 58 59 60 #\n",
    "#  #  61 62 63 64 65 66 67 68 69 #  #\n",
    "#  #  #  70 71 72 73 74 75 76 #  #  #\n",
    "#  #  #  #  77 78 79 80 81 #  #  #  #\n",
    "#  #  #  #  #  82 83 84 #  #  #  #  #\n",
    "#  #  #  #  #  #  85 #  #  #  #  #  #\n",
    "\"\"\"\n",
    "\n",
    "END_TURN = -1\n",
    "ACTIONS = []\n",
    "\n",
    "for i in range(7):\n",
    "    if i != 0:\n",
    "        ACTIONS.append((0, i))\n",
    "        ACTIONS.append((0, -i))\n",
    "\n",
    "    for j in range(6 - i):\n",
    "        ACTIONS.append((1 + j, i))\n",
    "        ACTIONS.append((-1 - j, i))\n",
    "        \n",
    "        if i != 0:\n",
    "            ACTIONS.append((1 + j, -i))\n",
    "            ACTIONS.append((-1 - j, -i))\n",
    "\n",
    "ACTIONS.append(END_TURN)\n",
    "print(len(ACTIONS))"
   ],
   "metadata": {
    "collapsed": false,
    "ExecuteTime": {
     "end_time": "2023-12-23T16:14:46.507133192Z",
     "start_time": "2023-12-23T16:14:46.465141835Z"
    }
   },
   "id": "4e60aff24200cba0"
  },
  {
   "cell_type": "code",
   "execution_count": 15,
   "outputs": [],
   "source": [
    "REWARD_MOB = 16\n",
    "REWARD_END_TURN = -4\n",
    "REWARD_MOVE = -1\n",
    "REWARD_IMPOSSIBLE = -128\n",
    "REWARD_END_FIGHT = 64\n",
    "\n",
    "EMPTY_CELL = 0\n",
    "WALL = 1\n",
    "USABLE_CELL = 2\n",
    "PLAYER = 3\n",
    "MONSTER = 4\n",
    "INVO = 5\n",
    "BOSS = 6\n",
    "UNDEFINED = -1"
   ],
   "metadata": {
    "collapsed": false,
    "ExecuteTime": {
     "end_time": "2023-12-23T16:35:09.581796811Z",
     "start_time": "2023-12-23T16:35:09.541101360Z"
    }
   },
   "id": "16bd7429e3b6c303"
  },
  {
   "cell_type": "code",
   "execution_count": 7,
   "outputs": [],
   "source": [
    "l = 20\n",
    "h = 14\n",
    "\n",
    "dict_swap_dofus_to_pos = {}\n",
    "dict_swap_pos_to_dofus  = {}\n",
    "\n",
    "for j in range(h):\n",
    "    \n",
    "    x_start = 13 - j\n",
    "    \n",
    "    for i in range(l):\n",
    "        \n",
    "        dict_swap_dofus_to_pos[(j, i, False)] = (x_start + i, i + j)\n",
    "        dict_swap_dofus_to_pos[(j, i, True)] = (x_start + i, i + j + 1)\n",
    "        \n",
    "        dict_swap_pos_to_dofus[(x_start + i, i + j)] = (j, i, False)\n",
    "        dict_swap_pos_to_dofus[(x_start + i, i + j + 1)] = (j, i, True)"
   ],
   "metadata": {
    "collapsed": false,
    "ExecuteTime": {
     "end_time": "2023-12-23T15:54:24.801905306Z",
     "start_time": "2023-12-23T15:54:24.757770270Z"
    }
   },
   "id": "6e76949d72479034"
  },
  {
   "cell_type": "code",
   "execution_count": 12,
   "outputs": [],
   "source": [
    "def get_map(path):\n",
    "    \n",
    "    dict_map = {}\n",
    "    array_map = []\n",
    "    \n",
    "    with open(path, 'r') as f:\n",
    "        lines = f.readlines()\n",
    "        \n",
    "        for line in lines:\n",
    "            array_map.append(list(map(int, line.split(','))))\n",
    "    \n",
    "    for pos in dict_swap_pos_to_dofus.keys():\n",
    "        dict_map[pos] = array_map[pos[0]][pos[1]]\n",
    "    \n",
    "    return dict_map"
   ],
   "metadata": {
    "collapsed": false,
    "ExecuteTime": {
     "end_time": "2023-12-23T16:00:42.424314447Z",
     "start_time": "2023-12-23T16:00:42.379358068Z"
    }
   },
   "id": "154b568dc3b9e7a1"
  },
  {
   "cell_type": "code",
   "execution_count": 13,
   "outputs": [],
   "source": [
    "list_map = []\n",
    "\n",
    "for i in range(5):\n",
    "    list_map.append(get_map(f\"./data/map_array/map_{i + 1}.txt\"))"
   ],
   "metadata": {
    "collapsed": false,
    "ExecuteTime": {
     "end_time": "2023-12-23T16:02:25.048030904Z",
     "start_time": "2023-12-23T16:02:24.999465628Z"
    }
   },
   "id": "2498ba58db4d07e5"
  },
  {
   "cell_type": "code",
   "execution_count": null,
   "outputs": [],
   "source": [
    "def get_random_start_map(dict_map):\n",
    "    \n",
    "    list_keys_player = []\n",
    "    list_keys_mob = []\n",
    "    \n",
    "    for key in dict_map.keys():\n",
    "        if dict_map[key] == 3:\n",
    "            list_keys_player.append(key)\n",
    "        elif dict_map[key] == 4:\n",
    "            list_keys_mob.append(key)\n",
    "            \n",
    "    i = random.randint(0, len(list_keys_player) - 1)\n",
    "    list_keys_player.remove(list_keys_player[i])\n",
    "    \n",
    "    for _ in range(4):\n",
    "        i = random.randint(0, len(list_keys_mob) - 1)\n",
    "        list_keys_mob.remove(list_keys_mob[i])\n",
    "        \n",
    "    for pos in list_keys_player:\n",
    "        dict_map[pos] = 2\n",
    "        \n",
    "    for pos in list_keys_mob:\n",
    "        dict_map[pos] = 2"
   ],
   "metadata": {
    "collapsed": false
   },
   "id": "33877f6eaf7264bc"
  },
  {
   "cell_type": "code",
   "execution_count": null,
   "outputs": [],
   "source": [
    "def get_player_pos(dict_map):\n",
    "    \n",
    "    for pos in dict_map.keys():\n",
    "        if dict_map[pos] == 3:\n",
    "            return pos\n",
    "        \n",
    "    return -1"
   ],
   "metadata": {
    "collapsed": false
   },
   "id": "1346e7f653ba86ca"
  },
  {
   "cell_type": "code",
   "execution_count": null,
   "outputs": [],
   "source": [
    "def mob_turn(dict_map, boss_map=False):\n",
    "    return dict_map"
   ],
   "metadata": {
    "collapsed": false
   },
   "id": "a0e586b483cfe2ab"
  },
  {
   "cell_type": "code",
   "execution_count": null,
   "outputs": [],
   "source": [
    "def map_contains_mob(dict_map):\n",
    "    \n",
    "    for pos in dict_map.keys():\n",
    "        if dict_map[pos] == MONSTER or dict_map[pos] == INVO or dict_map[pos] == BOSS:\n",
    "            return True\n",
    "    \n",
    "    return False"
   ],
   "metadata": {
    "collapsed": false
   },
   "id": "c09f186e16c017a2"
  },
  {
   "cell_type": "code",
   "execution_count": null,
   "outputs": [],
   "source": [
    "def count_pm_to_pos(dict_map, player_pos, expected_pos, max_pm):\n",
    "    return 3"
   ],
   "metadata": {
    "collapsed": false
   },
   "id": "1c555a6ba03607dd"
  },
  {
   "cell_type": "code",
   "execution_count": null,
   "outputs": [],
   "source": [
    "class Environment:\n",
    "    \n",
    "    def __init__(self):\n",
    "        \n",
    "        self.map_index = random.randint(0, 4)\n",
    "        self.map = get_random_start_map(list_map[self.map_index])\n",
    "        \n",
    "        self.max_pa = 6\n",
    "        self.max_pm = 3\n",
    "        \n",
    "        self.pa = self.max_pa\n",
    "        self.pm = self.max_pm\n",
    "        \n",
    "    def do(self, state, action):\n",
    "        \n",
    "        clicked = ACTIONS[action]\n",
    "        player_pos = get_player_pos(state)\n",
    "        \n",
    "        if player_pos == -1:\n",
    "            exit()\n",
    "        \n",
    "        if clicked == END_TURN:\n",
    "            self.pa = self.max_pa\n",
    "            self.pm = self.max_pm\n",
    "            return mob_turn(self.map, boss_map=self.map_index == 4), REWARD_END_TURN\n",
    "        \n",
    "        clicked_pos = player_pos[0] + clicked[0], player_pos[1] + clicked[1]\n",
    "        \n",
    "        if state[clicked_pos] == EMPTY_CELL or state[clicked_pos] == WALL or state[clicked_pos] == UNDEFINED:\n",
    "            return state, REWARD_IMPOSSIBLE\n",
    "        elif state[clicked_pos] == MONSTER or state[clicked_pos] == INVO or state[clicked_pos] == BOSS:\n",
    "            state[clicked_pos] = 2\n",
    "            if not map_contains_mob(state):\n",
    "                return state, REWARD_IMPOSSIBLE\n",
    "            return state, REWARD_MOB\n",
    "        elif state[clicked_pos] == USABLE_CELL:\n",
    "            used = count_pm_to_pos(state, player_pos, clicked_pos, self.pm)\n",
    "            \n",
    "            if used == -1:\n",
    "                return state, REWARD_IMPOSSIBLE\n",
    "            \n",
    "            self.pm -= used\n",
    "            return state, REWARD_MOVE\n"
   ],
   "metadata": {
    "collapsed": false
   },
   "id": "c4cabead4315b28a"
  }
 ],
 "metadata": {
  "kernelspec": {
   "display_name": "Python 3",
   "language": "python",
   "name": "python3"
  },
  "language_info": {
   "codemirror_mode": {
    "name": "ipython",
    "version": 2
   },
   "file_extension": ".py",
   "mimetype": "text/x-python",
   "name": "python",
   "nbconvert_exporter": "python",
   "pygments_lexer": "ipython2",
   "version": "2.7.6"
  }
 },
 "nbformat": 4,
 "nbformat_minor": 5
}
