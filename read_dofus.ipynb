{
 "cells": [
  {
   "cell_type": "code",
   "execution_count": 50,
   "id": "initial_id",
   "metadata": {
    "collapsed": true,
    "ExecuteTime": {
     "end_time": "2023-12-22T15:32:54.348959085Z",
     "start_time": "2023-12-22T15:32:54.337969315Z"
    }
   },
   "outputs": [],
   "source": [
    "import time\n",
    "from collections import Counter\n",
    "from PIL import Image, ImageDraw\n",
    "import os\n",
    "import pyautogui"
   ]
  },
  {
   "cell_type": "code",
   "execution_count": 51,
   "outputs": [],
   "source": [
    "l = 20\n",
    "h = 14\n",
    "\n",
    "base_x = 235\n",
    "base_y = 5\n",
    "\n",
    "step_x = 130\n",
    "step_y = 65\n",
    "\n",
    "box_size = 30\n",
    "\n",
    "dict_swap_dofus_to_pos = {}\n",
    "dict_swap_pos_to_dofus  = {}"
   ],
   "metadata": {
    "collapsed": false,
    "ExecuteTime": {
     "end_time": "2023-12-22T15:32:54.370214313Z",
     "start_time": "2023-12-22T15:32:54.347708560Z"
    }
   },
   "id": "dc337883300695aa"
  },
  {
   "cell_type": "code",
   "execution_count": 52,
   "outputs": [],
   "source": [
    "x_start = 1\n",
    "y_start = 13\n",
    "for j in range(h):\n",
    "    x_start = j\n",
    "    y_start = h - j - 1\n",
    "    for i in range(l):\n",
    "        dict_swap_dofus_to_pos[(i, y_start, False)] = (x_start + i, y_start + i)\n",
    "        dict_swap_dofus_to_pos[(i, y_start, True)] = (x_start + i, y_start + i + 1)\n",
    "        \n",
    "        dict_swap_pos_to_dofus[(x_start + i, y_start + i)] = (i, y_start, False)\n",
    "        dict_swap_pos_to_dofus[(x_start + i, y_start + i + 1)] = (i, y_start, True)\n"
   ],
   "metadata": {
    "collapsed": false,
    "ExecuteTime": {
     "end_time": "2023-12-22T15:32:54.370933749Z",
     "start_time": "2023-12-22T15:32:54.369057169Z"
    }
   },
   "id": "5fe18aa9ad6d39d9"
  },
  {
   "cell_type": "code",
   "execution_count": 53,
   "outputs": [
    {
     "name": "stdout",
     "output_type": "stream",
     "text": [
      "{(0, 13, False): (0, 13), (0, 13, True): (0, 14), (1, 13, False): (1, 14), (1, 13, True): (1, 15), (2, 13, False): (2, 15), (2, 13, True): (2, 16), (3, 13, False): (3, 16), (3, 13, True): (3, 17), (4, 13, False): (4, 17), (4, 13, True): (4, 18), (5, 13, False): (5, 18), (5, 13, True): (5, 19), (6, 13, False): (6, 19), (6, 13, True): (6, 20), (7, 13, False): (7, 20), (7, 13, True): (7, 21), (8, 13, False): (8, 21), (8, 13, True): (8, 22), (9, 13, False): (9, 22), (9, 13, True): (9, 23), (10, 13, False): (10, 23), (10, 13, True): (10, 24), (11, 13, False): (11, 24), (11, 13, True): (11, 25), (12, 13, False): (12, 25), (12, 13, True): (12, 26), (13, 13, False): (13, 26), (13, 13, True): (13, 27), (14, 13, False): (14, 27), (14, 13, True): (14, 28), (15, 13, False): (15, 28), (15, 13, True): (15, 29), (16, 13, False): (16, 29), (16, 13, True): (16, 30), (17, 13, False): (17, 30), (17, 13, True): (17, 31), (18, 13, False): (18, 31), (18, 13, True): (18, 32), (19, 13, False): (19, 32), (19, 13, True): (19, 33), (0, 12, False): (1, 12), (0, 12, True): (1, 13), (1, 12, False): (2, 13), (1, 12, True): (2, 14), (2, 12, False): (3, 14), (2, 12, True): (3, 15), (3, 12, False): (4, 15), (3, 12, True): (4, 16), (4, 12, False): (5, 16), (4, 12, True): (5, 17), (5, 12, False): (6, 17), (5, 12, True): (6, 18), (6, 12, False): (7, 18), (6, 12, True): (7, 19), (7, 12, False): (8, 19), (7, 12, True): (8, 20), (8, 12, False): (9, 20), (8, 12, True): (9, 21), (9, 12, False): (10, 21), (9, 12, True): (10, 22), (10, 12, False): (11, 22), (10, 12, True): (11, 23), (11, 12, False): (12, 23), (11, 12, True): (12, 24), (12, 12, False): (13, 24), (12, 12, True): (13, 25), (13, 12, False): (14, 25), (13, 12, True): (14, 26), (14, 12, False): (15, 26), (14, 12, True): (15, 27), (15, 12, False): (16, 27), (15, 12, True): (16, 28), (16, 12, False): (17, 28), (16, 12, True): (17, 29), (17, 12, False): (18, 29), (17, 12, True): (18, 30), (18, 12, False): (19, 30), (18, 12, True): (19, 31), (19, 12, False): (20, 31), (19, 12, True): (20, 32), (0, 11, False): (2, 11), (0, 11, True): (2, 12), (1, 11, False): (3, 12), (1, 11, True): (3, 13), (2, 11, False): (4, 13), (2, 11, True): (4, 14), (3, 11, False): (5, 14), (3, 11, True): (5, 15), (4, 11, False): (6, 15), (4, 11, True): (6, 16), (5, 11, False): (7, 16), (5, 11, True): (7, 17), (6, 11, False): (8, 17), (6, 11, True): (8, 18), (7, 11, False): (9, 18), (7, 11, True): (9, 19), (8, 11, False): (10, 19), (8, 11, True): (10, 20), (9, 11, False): (11, 20), (9, 11, True): (11, 21), (10, 11, False): (12, 21), (10, 11, True): (12, 22), (11, 11, False): (13, 22), (11, 11, True): (13, 23), (12, 11, False): (14, 23), (12, 11, True): (14, 24), (13, 11, False): (15, 24), (13, 11, True): (15, 25), (14, 11, False): (16, 25), (14, 11, True): (16, 26), (15, 11, False): (17, 26), (15, 11, True): (17, 27), (16, 11, False): (18, 27), (16, 11, True): (18, 28), (17, 11, False): (19, 28), (17, 11, True): (19, 29), (18, 11, False): (20, 29), (18, 11, True): (20, 30), (19, 11, False): (21, 30), (19, 11, True): (21, 31), (0, 10, False): (3, 10), (0, 10, True): (3, 11), (1, 10, False): (4, 11), (1, 10, True): (4, 12), (2, 10, False): (5, 12), (2, 10, True): (5, 13), (3, 10, False): (6, 13), (3, 10, True): (6, 14), (4, 10, False): (7, 14), (4, 10, True): (7, 15), (5, 10, False): (8, 15), (5, 10, True): (8, 16), (6, 10, False): (9, 16), (6, 10, True): (9, 17), (7, 10, False): (10, 17), (7, 10, True): (10, 18), (8, 10, False): (11, 18), (8, 10, True): (11, 19), (9, 10, False): (12, 19), (9, 10, True): (12, 20), (10, 10, False): (13, 20), (10, 10, True): (13, 21), (11, 10, False): (14, 21), (11, 10, True): (14, 22), (12, 10, False): (15, 22), (12, 10, True): (15, 23), (13, 10, False): (16, 23), (13, 10, True): (16, 24), (14, 10, False): (17, 24), (14, 10, True): (17, 25), (15, 10, False): (18, 25), (15, 10, True): (18, 26), (16, 10, False): (19, 26), (16, 10, True): (19, 27), (17, 10, False): (20, 27), (17, 10, True): (20, 28), (18, 10, False): (21, 28), (18, 10, True): (21, 29), (19, 10, False): (22, 29), (19, 10, True): (22, 30), (0, 9, False): (4, 9), (0, 9, True): (4, 10), (1, 9, False): (5, 10), (1, 9, True): (5, 11), (2, 9, False): (6, 11), (2, 9, True): (6, 12), (3, 9, False): (7, 12), (3, 9, True): (7, 13), (4, 9, False): (8, 13), (4, 9, True): (8, 14), (5, 9, False): (9, 14), (5, 9, True): (9, 15), (6, 9, False): (10, 15), (6, 9, True): (10, 16), (7, 9, False): (11, 16), (7, 9, True): (11, 17), (8, 9, False): (12, 17), (8, 9, True): (12, 18), (9, 9, False): (13, 18), (9, 9, True): (13, 19), (10, 9, False): (14, 19), (10, 9, True): (14, 20), (11, 9, False): (15, 20), (11, 9, True): (15, 21), (12, 9, False): (16, 21), (12, 9, True): (16, 22), (13, 9, False): (17, 22), (13, 9, True): (17, 23), (14, 9, False): (18, 23), (14, 9, True): (18, 24), (15, 9, False): (19, 24), (15, 9, True): (19, 25), (16, 9, False): (20, 25), (16, 9, True): (20, 26), (17, 9, False): (21, 26), (17, 9, True): (21, 27), (18, 9, False): (22, 27), (18, 9, True): (22, 28), (19, 9, False): (23, 28), (19, 9, True): (23, 29), (0, 8, False): (5, 8), (0, 8, True): (5, 9), (1, 8, False): (6, 9), (1, 8, True): (6, 10), (2, 8, False): (7, 10), (2, 8, True): (7, 11), (3, 8, False): (8, 11), (3, 8, True): (8, 12), (4, 8, False): (9, 12), (4, 8, True): (9, 13), (5, 8, False): (10, 13), (5, 8, True): (10, 14), (6, 8, False): (11, 14), (6, 8, True): (11, 15), (7, 8, False): (12, 15), (7, 8, True): (12, 16), (8, 8, False): (13, 16), (8, 8, True): (13, 17), (9, 8, False): (14, 17), (9, 8, True): (14, 18), (10, 8, False): (15, 18), (10, 8, True): (15, 19), (11, 8, False): (16, 19), (11, 8, True): (16, 20), (12, 8, False): (17, 20), (12, 8, True): (17, 21), (13, 8, False): (18, 21), (13, 8, True): (18, 22), (14, 8, False): (19, 22), (14, 8, True): (19, 23), (15, 8, False): (20, 23), (15, 8, True): (20, 24), (16, 8, False): (21, 24), (16, 8, True): (21, 25), (17, 8, False): (22, 25), (17, 8, True): (22, 26), (18, 8, False): (23, 26), (18, 8, True): (23, 27), (19, 8, False): (24, 27), (19, 8, True): (24, 28), (0, 7, False): (6, 7), (0, 7, True): (6, 8), (1, 7, False): (7, 8), (1, 7, True): (7, 9), (2, 7, False): (8, 9), (2, 7, True): (8, 10), (3, 7, False): (9, 10), (3, 7, True): (9, 11), (4, 7, False): (10, 11), (4, 7, True): (10, 12), (5, 7, False): (11, 12), (5, 7, True): (11, 13), (6, 7, False): (12, 13), (6, 7, True): (12, 14), (7, 7, False): (13, 14), (7, 7, True): (13, 15), (8, 7, False): (14, 15), (8, 7, True): (14, 16), (9, 7, False): (15, 16), (9, 7, True): (15, 17), (10, 7, False): (16, 17), (10, 7, True): (16, 18), (11, 7, False): (17, 18), (11, 7, True): (17, 19), (12, 7, False): (18, 19), (12, 7, True): (18, 20), (13, 7, False): (19, 20), (13, 7, True): (19, 21), (14, 7, False): (20, 21), (14, 7, True): (20, 22), (15, 7, False): (21, 22), (15, 7, True): (21, 23), (16, 7, False): (22, 23), (16, 7, True): (22, 24), (17, 7, False): (23, 24), (17, 7, True): (23, 25), (18, 7, False): (24, 25), (18, 7, True): (24, 26), (19, 7, False): (25, 26), (19, 7, True): (25, 27), (0, 6, False): (7, 6), (0, 6, True): (7, 7), (1, 6, False): (8, 7), (1, 6, True): (8, 8), (2, 6, False): (9, 8), (2, 6, True): (9, 9), (3, 6, False): (10, 9), (3, 6, True): (10, 10), (4, 6, False): (11, 10), (4, 6, True): (11, 11), (5, 6, False): (12, 11), (5, 6, True): (12, 12), (6, 6, False): (13, 12), (6, 6, True): (13, 13), (7, 6, False): (14, 13), (7, 6, True): (14, 14), (8, 6, False): (15, 14), (8, 6, True): (15, 15), (9, 6, False): (16, 15), (9, 6, True): (16, 16), (10, 6, False): (17, 16), (10, 6, True): (17, 17), (11, 6, False): (18, 17), (11, 6, True): (18, 18), (12, 6, False): (19, 18), (12, 6, True): (19, 19), (13, 6, False): (20, 19), (13, 6, True): (20, 20), (14, 6, False): (21, 20), (14, 6, True): (21, 21), (15, 6, False): (22, 21), (15, 6, True): (22, 22), (16, 6, False): (23, 22), (16, 6, True): (23, 23), (17, 6, False): (24, 23), (17, 6, True): (24, 24), (18, 6, False): (25, 24), (18, 6, True): (25, 25), (19, 6, False): (26, 25), (19, 6, True): (26, 26), (0, 5, False): (8, 5), (0, 5, True): (8, 6), (1, 5, False): (9, 6), (1, 5, True): (9, 7), (2, 5, False): (10, 7), (2, 5, True): (10, 8), (3, 5, False): (11, 8), (3, 5, True): (11, 9), (4, 5, False): (12, 9), (4, 5, True): (12, 10), (5, 5, False): (13, 10), (5, 5, True): (13, 11), (6, 5, False): (14, 11), (6, 5, True): (14, 12), (7, 5, False): (15, 12), (7, 5, True): (15, 13), (8, 5, False): (16, 13), (8, 5, True): (16, 14), (9, 5, False): (17, 14), (9, 5, True): (17, 15), (10, 5, False): (18, 15), (10, 5, True): (18, 16), (11, 5, False): (19, 16), (11, 5, True): (19, 17), (12, 5, False): (20, 17), (12, 5, True): (20, 18), (13, 5, False): (21, 18), (13, 5, True): (21, 19), (14, 5, False): (22, 19), (14, 5, True): (22, 20), (15, 5, False): (23, 20), (15, 5, True): (23, 21), (16, 5, False): (24, 21), (16, 5, True): (24, 22), (17, 5, False): (25, 22), (17, 5, True): (25, 23), (18, 5, False): (26, 23), (18, 5, True): (26, 24), (19, 5, False): (27, 24), (19, 5, True): (27, 25), (0, 4, False): (9, 4), (0, 4, True): (9, 5), (1, 4, False): (10, 5), (1, 4, True): (10, 6), (2, 4, False): (11, 6), (2, 4, True): (11, 7), (3, 4, False): (12, 7), (3, 4, True): (12, 8), (4, 4, False): (13, 8), (4, 4, True): (13, 9), (5, 4, False): (14, 9), (5, 4, True): (14, 10), (6, 4, False): (15, 10), (6, 4, True): (15, 11), (7, 4, False): (16, 11), (7, 4, True): (16, 12), (8, 4, False): (17, 12), (8, 4, True): (17, 13), (9, 4, False): (18, 13), (9, 4, True): (18, 14), (10, 4, False): (19, 14), (10, 4, True): (19, 15), (11, 4, False): (20, 15), (11, 4, True): (20, 16), (12, 4, False): (21, 16), (12, 4, True): (21, 17), (13, 4, False): (22, 17), (13, 4, True): (22, 18), (14, 4, False): (23, 18), (14, 4, True): (23, 19), (15, 4, False): (24, 19), (15, 4, True): (24, 20), (16, 4, False): (25, 20), (16, 4, True): (25, 21), (17, 4, False): (26, 21), (17, 4, True): (26, 22), (18, 4, False): (27, 22), (18, 4, True): (27, 23), (19, 4, False): (28, 23), (19, 4, True): (28, 24), (0, 3, False): (10, 3), (0, 3, True): (10, 4), (1, 3, False): (11, 4), (1, 3, True): (11, 5), (2, 3, False): (12, 5), (2, 3, True): (12, 6), (3, 3, False): (13, 6), (3, 3, True): (13, 7), (4, 3, False): (14, 7), (4, 3, True): (14, 8), (5, 3, False): (15, 8), (5, 3, True): (15, 9), (6, 3, False): (16, 9), (6, 3, True): (16, 10), (7, 3, False): (17, 10), (7, 3, True): (17, 11), (8, 3, False): (18, 11), (8, 3, True): (18, 12), (9, 3, False): (19, 12), (9, 3, True): (19, 13), (10, 3, False): (20, 13), (10, 3, True): (20, 14), (11, 3, False): (21, 14), (11, 3, True): (21, 15), (12, 3, False): (22, 15), (12, 3, True): (22, 16), (13, 3, False): (23, 16), (13, 3, True): (23, 17), (14, 3, False): (24, 17), (14, 3, True): (24, 18), (15, 3, False): (25, 18), (15, 3, True): (25, 19), (16, 3, False): (26, 19), (16, 3, True): (26, 20), (17, 3, False): (27, 20), (17, 3, True): (27, 21), (18, 3, False): (28, 21), (18, 3, True): (28, 22), (19, 3, False): (29, 22), (19, 3, True): (29, 23), (0, 2, False): (11, 2), (0, 2, True): (11, 3), (1, 2, False): (12, 3), (1, 2, True): (12, 4), (2, 2, False): (13, 4), (2, 2, True): (13, 5), (3, 2, False): (14, 5), (3, 2, True): (14, 6), (4, 2, False): (15, 6), (4, 2, True): (15, 7), (5, 2, False): (16, 7), (5, 2, True): (16, 8), (6, 2, False): (17, 8), (6, 2, True): (17, 9), (7, 2, False): (18, 9), (7, 2, True): (18, 10), (8, 2, False): (19, 10), (8, 2, True): (19, 11), (9, 2, False): (20, 11), (9, 2, True): (20, 12), (10, 2, False): (21, 12), (10, 2, True): (21, 13), (11, 2, False): (22, 13), (11, 2, True): (22, 14), (12, 2, False): (23, 14), (12, 2, True): (23, 15), (13, 2, False): (24, 15), (13, 2, True): (24, 16), (14, 2, False): (25, 16), (14, 2, True): (25, 17), (15, 2, False): (26, 17), (15, 2, True): (26, 18), (16, 2, False): (27, 18), (16, 2, True): (27, 19), (17, 2, False): (28, 19), (17, 2, True): (28, 20), (18, 2, False): (29, 20), (18, 2, True): (29, 21), (19, 2, False): (30, 21), (19, 2, True): (30, 22), (0, 1, False): (12, 1), (0, 1, True): (12, 2), (1, 1, False): (13, 2), (1, 1, True): (13, 3), (2, 1, False): (14, 3), (2, 1, True): (14, 4), (3, 1, False): (15, 4), (3, 1, True): (15, 5), (4, 1, False): (16, 5), (4, 1, True): (16, 6), (5, 1, False): (17, 6), (5, 1, True): (17, 7), (6, 1, False): (18, 7), (6, 1, True): (18, 8), (7, 1, False): (19, 8), (7, 1, True): (19, 9), (8, 1, False): (20, 9), (8, 1, True): (20, 10), (9, 1, False): (21, 10), (9, 1, True): (21, 11), (10, 1, False): (22, 11), (10, 1, True): (22, 12), (11, 1, False): (23, 12), (11, 1, True): (23, 13), (12, 1, False): (24, 13), (12, 1, True): (24, 14), (13, 1, False): (25, 14), (13, 1, True): (25, 15), (14, 1, False): (26, 15), (14, 1, True): (26, 16), (15, 1, False): (27, 16), (15, 1, True): (27, 17), (16, 1, False): (28, 17), (16, 1, True): (28, 18), (17, 1, False): (29, 18), (17, 1, True): (29, 19), (18, 1, False): (30, 19), (18, 1, True): (30, 20), (19, 1, False): (31, 20), (19, 1, True): (31, 21), (0, 0, False): (13, 0), (0, 0, True): (13, 1), (1, 0, False): (14, 1), (1, 0, True): (14, 2), (2, 0, False): (15, 2), (2, 0, True): (15, 3), (3, 0, False): (16, 3), (3, 0, True): (16, 4), (4, 0, False): (17, 4), (4, 0, True): (17, 5), (5, 0, False): (18, 5), (5, 0, True): (18, 6), (6, 0, False): (19, 6), (6, 0, True): (19, 7), (7, 0, False): (20, 7), (7, 0, True): (20, 8), (8, 0, False): (21, 8), (8, 0, True): (21, 9), (9, 0, False): (22, 9), (9, 0, True): (22, 10), (10, 0, False): (23, 10), (10, 0, True): (23, 11), (11, 0, False): (24, 11), (11, 0, True): (24, 12), (12, 0, False): (25, 12), (12, 0, True): (25, 13), (13, 0, False): (26, 13), (13, 0, True): (26, 14), (14, 0, False): (27, 14), (14, 0, True): (27, 15), (15, 0, False): (28, 15), (15, 0, True): (28, 16), (16, 0, False): (29, 16), (16, 0, True): (29, 17), (17, 0, False): (30, 17), (17, 0, True): (30, 18), (18, 0, False): (31, 18), (18, 0, True): (31, 19), (19, 0, False): (32, 19), (19, 0, True): (32, 20)}\n"
     ]
    }
   ],
   "source": [
    "print(dict_swap_dofus_to_pos)"
   ],
   "metadata": {
    "collapsed": false,
    "ExecuteTime": {
     "end_time": "2023-12-22T15:32:54.388864262Z",
     "start_time": "2023-12-22T15:32:54.369500770Z"
    }
   },
   "id": "8249f89cd493a3f"
  },
  {
   "cell_type": "code",
   "execution_count": 54,
   "outputs": [],
   "source": [
    "def crop_image(image, rect, path):\n",
    "    region = image.crop(rect)\n",
    "    region.save(path)"
   ],
   "metadata": {
    "collapsed": false,
    "ExecuteTime": {
     "end_time": "2023-12-22T15:32:54.430508423Z",
     "start_time": "2023-12-22T15:32:54.371632236Z"
    }
   },
   "id": "d47469e057aed1a"
  },
  {
   "cell_type": "code",
   "execution_count": 55,
   "outputs": [],
   "source": [
    "def full_crop_image(image_name):\n",
    "    img = Image.open(f\"data/fight/{image_name}.png\")\n",
    "    os.mkdir(f\"data/cropped/{image_name}\")\n",
    "    \n",
    "    draw = ImageDraw.Draw(img)\n",
    "    \n",
    "    for i in range(h):\n",
    "        for j in range(l):\n",
    "            x = base_x + step_x * i\n",
    "            y = base_y + step_y * j\n",
    "            \n",
    "            crop_image(img, (x, y, x + box_size, y + box_size), f\"data/cropped/{image_name}/{image_name}-{i}-{j}-false.png\")\n",
    "            draw.rectangle((x, y, x + box_size, y + box_size), outline=\"red\", width=2)\n",
    "            \n",
    "            x += step_x // 2\n",
    "            y += step_y // 2\n",
    "            crop_image(img, (x, y, x + box_size, y + box_size), f\"data/cropped/{image_name}/{image_name}-{i}-{j}-true.png\")\n",
    "            draw.rectangle((x, y, x + box_size, y + box_size), outline=\"red\", width=2)\n",
    "\n",
    "    \n",
    "    img.save(f\"data/cropped_visu/{image_name}.png\")\n",
    "    \n",
    "    img.close()"
   ],
   "metadata": {
    "collapsed": false,
    "ExecuteTime": {
     "end_time": "2023-12-22T15:32:54.431244320Z",
     "start_time": "2023-12-22T15:32:54.392046492Z"
    }
   },
   "id": "b2171dbd7b104c7e"
  },
  {
   "cell_type": "code",
   "execution_count": 56,
   "outputs": [],
   "source": [
    "#folder_dir = \"data/fight/\"\n",
    "#for images in os.listdir(folder_dir):\n",
    "#    if images.endswith(\".png\"):\n",
    "#        full_crop_image(images.split('.')[0])"
   ],
   "metadata": {
    "collapsed": false,
    "ExecuteTime": {
     "end_time": "2023-12-22T15:32:54.448888343Z",
     "start_time": "2023-12-22T15:32:54.392471504Z"
    }
   },
   "id": "69813d0ad1532e03"
  },
  {
   "cell_type": "code",
   "execution_count": 57,
   "outputs": [],
   "source": [
    "def get_colors(path=None, img=None):\n",
    "    \n",
    "    if img is None:\n",
    "        img = Image.open(path)\n",
    "        \n",
    "    pixels = list(img.getdata())\n",
    "\n",
    "    colors_counter = Counter(pixels)\n",
    "    colors_counter = sorted(colors_counter.items(), key=lambda x: x[1], reverse=True)\n",
    "\n",
    "    color1, _ = colors_counter[0]    \n",
    "    if len(colors_counter) > 1:\n",
    "        color2, _ = colors_counter[1]\n",
    "    else :\n",
    "        color2 = (0, 0, 0)\n",
    "        \n",
    "    return color1, color2"
   ],
   "metadata": {
    "collapsed": false,
    "ExecuteTime": {
     "end_time": "2023-12-22T15:32:54.449522641Z",
     "start_time": "2023-12-22T15:32:54.431650021Z"
    }
   },
   "id": "b589e3849c4da6f8"
  },
  {
   "cell_type": "code",
   "execution_count": 58,
   "outputs": [
    {
     "name": "stdout",
     "output_type": "stream",
     "text": [
      "139-8-6-false.png -> ((142, 134, 94, 255), (88, 83, 58, 255))\n",
      "139-6-2-false.png -> ((0, 0, 0, 255), (0, 0, 0))\n",
      "139-12-11-false.png -> ((88, 83, 58, 255), (89, 84, 59, 255))\n",
      "139-7-9-true.png -> ((150, 142, 103, 255), (88, 83, 58, 255))\n",
      "139-5-11-true.png -> ((218, 57, 45, 255), (230, 127, 46, 255))\n",
      "139-2-12-true.png -> ((46, 54, 61, 255), (77, 77, 93, 255))\n",
      "139-8-9-false.png -> ((251, 241, 191, 255), (46, 54, 61, 255))\n",
      "139-6-17-false.png -> ((196, 19, 0, 255), (101, 11, 1, 255))\n"
     ]
    }
   ],
   "source": [
    "list_color = {}\n",
    "\n",
    "for image in os.listdir(\"./data/cropped/139\"):\n",
    "    if image.endswith(\".png\"):\n",
    "        color = get_colors(\"./data/cropped/139/\" + image)\n",
    "        if color[0] not in list_color.keys():\n",
    "            list_color[color[0]] = image\n",
    "            print(f\"{image} -> {color}\")\n"
   ],
   "metadata": {
    "collapsed": false,
    "ExecuteTime": {
     "end_time": "2023-12-22T15:32:54.594150258Z",
     "start_time": "2023-12-22T15:32:54.432031562Z"
    }
   },
   "id": "5d776195bae974b0"
  },
  {
   "cell_type": "code",
   "execution_count": 59,
   "outputs": [],
   "source": [
    "EMPTY_CELL = 0\n",
    "WALL = 1\n",
    "USABLE_CELL = 2\n",
    "PLAYER = 3\n",
    "MONSTER = 4\n",
    "INVO = 5\n",
    "BOSS = 6\n",
    "UNDEFINED = -1\n",
    "\n",
    "list_cell_color = {\n",
    "    (0, 0, 0, 255): EMPTY_CELL,\n",
    "    (142, 134, 94): USABLE_CELL,\n",
    "    (150, 142, 103): USABLE_CELL,\n",
    "    (88, 83, 58): WALL,\n",
    "    (218, 57, 45): INVO,\n",
    "    (46, 54, 61): MONSTER,\n",
    "    (251, 241, 191): BOSS,\n",
    "    (196, 19, 0): PLAYER,\n",
    "}\n"
   ],
   "metadata": {
    "collapsed": false,
    "ExecuteTime": {
     "end_time": "2023-12-22T15:32:54.595020274Z",
     "start_time": "2023-12-22T15:32:54.593193091Z"
    }
   },
   "id": "43ccbecfe4d97b20"
  },
  {
   "cell_type": "code",
   "execution_count": 60,
   "outputs": [],
   "source": [
    "def get_image_type(path=None, img=None):\n",
    "    \n",
    "    if img is None:\n",
    "        most = get_colors(path=path)\n",
    "    else:\n",
    "        most = get_colors(img=img)\n",
    "    \n",
    "    type = UNDEFINED\n",
    "    \n",
    "    if most[0] in list_color.keys():\n",
    "        type = list_color[most[0]]\n",
    "    if type == USABLE_CELL and most[1] == (46, 54, 61):\n",
    "        type = MONSTER\n",
    "        \n",
    "    return type"
   ],
   "metadata": {
    "collapsed": false,
    "ExecuteTime": {
     "end_time": "2023-12-22T15:32:54.595601555Z",
     "start_time": "2023-12-22T15:32:54.593614658Z"
    }
   },
   "id": "ef2fd0643a692d78"
  },
  {
   "cell_type": "code",
   "execution_count": 61,
   "outputs": [],
   "source": [
    "def get_screen_info():\n",
    "    \n",
    "    dist_case = {}\n",
    "    \n",
    "    screen = pyautogui.screenshot()\n",
    "    \n",
    "    for pos in dict_swap_pos_to_dofus.keys():\n",
    "        \n",
    "        dofus_pos = dict_swap_pos_to_dofus[pos]\n",
    "        x = base_x + step_x * dofus_pos[0]\n",
    "        y = base_y + step_y * dofus_pos[1]\n",
    "        \n",
    "        if dofus_pos[2]:\n",
    "            x += step_x // 2\n",
    "            y += step_y // 2\n",
    "        \n",
    "        cropped = screen.crop((x, y, x + box_size, y + box_size))\n",
    "        \n",
    "        dist_case[pos] = get_image_type(img=cropped)\n",
    "        \n",
    "    return dist_case"
   ],
   "metadata": {
    "collapsed": false,
    "ExecuteTime": {
     "end_time": "2023-12-22T15:32:54.596169426Z",
     "start_time": "2023-12-22T15:32:54.594007254Z"
    }
   },
   "id": "369ba7706648c02c"
  },
  {
   "cell_type": "code",
   "execution_count": 62,
   "outputs": [
    {
     "ename": "KeyboardInterrupt",
     "evalue": "",
     "output_type": "error",
     "traceback": [
      "\u001B[0;31m---------------------------------------------------------------------------\u001B[0m",
      "\u001B[0;31mOSError\u001B[0m                                   Traceback (most recent call last)",
      "File \u001B[0;32m~/ESGI/RL/DofusAI/pythonProject/.venv/lib/python3.10/site-packages/PIL/ImageGrab.py:69\u001B[0m, in \u001B[0;36mgrab\u001B[0;34m(bbox, include_layered_windows, all_screens, xdisplay)\u001B[0m\n\u001B[1;32m     68\u001B[0m         \u001B[38;5;28;01mraise\u001B[39;00m \u001B[38;5;167;01mOSError\u001B[39;00m(msg)\n\u001B[0;32m---> 69\u001B[0m     size, data \u001B[38;5;241m=\u001B[39m \u001B[43mImage\u001B[49m\u001B[38;5;241;43m.\u001B[39;49m\u001B[43mcore\u001B[49m\u001B[38;5;241;43m.\u001B[39;49m\u001B[43mgrabscreen_x11\u001B[49m\u001B[43m(\u001B[49m\u001B[43mxdisplay\u001B[49m\u001B[43m)\u001B[49m\n\u001B[1;32m     70\u001B[0m \u001B[38;5;28;01mexcept\u001B[39;00m \u001B[38;5;167;01mOSError\u001B[39;00m:\n",
      "\u001B[0;31mOSError\u001B[0m: X get_image failed: error 8 (73, 0, 1179)",
      "\nDuring handling of the above exception, another exception occurred:\n",
      "\u001B[0;31mKeyboardInterrupt\u001B[0m                         Traceback (most recent call last)",
      "Cell \u001B[0;32mIn[62], line 3\u001B[0m\n\u001B[1;32m      1\u001B[0m \u001B[38;5;28;01mwhile\u001B[39;00m \u001B[38;5;28;01mTrue\u001B[39;00m:\n\u001B[1;32m      2\u001B[0m     time\u001B[38;5;241m.\u001B[39msleep(\u001B[38;5;241m1\u001B[39m)\n\u001B[0;32m----> 3\u001B[0m     \u001B[43mget_screen_info\u001B[49m\u001B[43m(\u001B[49m\u001B[43m)\u001B[49m\n",
      "Cell \u001B[0;32mIn[61], line 5\u001B[0m, in \u001B[0;36mget_screen_info\u001B[0;34m()\u001B[0m\n\u001B[1;32m      1\u001B[0m \u001B[38;5;28;01mdef\u001B[39;00m \u001B[38;5;21mget_screen_info\u001B[39m():\n\u001B[1;32m      3\u001B[0m     dist_case \u001B[38;5;241m=\u001B[39m {}\n\u001B[0;32m----> 5\u001B[0m     screen \u001B[38;5;241m=\u001B[39m \u001B[43mpyautogui\u001B[49m\u001B[38;5;241;43m.\u001B[39;49m\u001B[43mscreenshot\u001B[49m\u001B[43m(\u001B[49m\u001B[43m)\u001B[49m\n\u001B[1;32m      7\u001B[0m     \u001B[38;5;28;01mfor\u001B[39;00m pos \u001B[38;5;129;01min\u001B[39;00m dict_swap_pos_to_dofus\u001B[38;5;241m.\u001B[39mkeys():\n\u001B[1;32m      9\u001B[0m         dofus_pos \u001B[38;5;241m=\u001B[39m dict_swap_pos_to_dofus[pos]\n",
      "File \u001B[0;32m~/ESGI/RL/DofusAI/pythonProject/.venv/lib/python3.10/site-packages/pyscreeze/__init__.py:603\u001B[0m, in \u001B[0;36m_screenshot_linux\u001B[0;34m(imageFilename, region)\u001B[0m\n\u001B[1;32m    596\u001B[0m \u001B[38;5;66;03m# Version 9.2.0 introduced using gnome-screenshot for ImageGrab.grab()\u001B[39;00m\n\u001B[1;32m    597\u001B[0m \u001B[38;5;66;03m# on Linux, which is necessary to have screenshots work with Wayland\u001B[39;00m\n\u001B[1;32m    598\u001B[0m \u001B[38;5;66;03m# (the replacement for x11.) Therefore, for 3.7 and later, PyScreeze\u001B[39;00m\n\u001B[1;32m    599\u001B[0m \u001B[38;5;66;03m# uses/requires 9.2.0.\u001B[39;00m\n\u001B[1;32m    600\u001B[0m \u001B[38;5;28;01mif\u001B[39;00m PILLOW_VERSION \u001B[38;5;241m>\u001B[39m\u001B[38;5;241m=\u001B[39m (\u001B[38;5;241m9\u001B[39m, \u001B[38;5;241m2\u001B[39m, \u001B[38;5;241m0\u001B[39m) \u001B[38;5;129;01mand\u001B[39;00m GNOMESCREENSHOT_EXISTS:\n\u001B[1;32m    601\u001B[0m     \u001B[38;5;66;03m# Pillow doesn't need tmpFilename because it works entirely in memory and doesn't\u001B[39;00m\n\u001B[1;32m    602\u001B[0m     \u001B[38;5;66;03m# need to save an image file to disk.\u001B[39;00m\n\u001B[0;32m--> 603\u001B[0m     im \u001B[38;5;241m=\u001B[39m \u001B[43mImageGrab\u001B[49m\u001B[38;5;241;43m.\u001B[39;49m\u001B[43mgrab\u001B[49m\u001B[43m(\u001B[49m\u001B[43m)\u001B[49m  \u001B[38;5;66;03m# use Pillow's grab() for Pillow 9.2.0 and later.\u001B[39;00m\n\u001B[1;32m    605\u001B[0m     \u001B[38;5;28;01mif\u001B[39;00m imageFilename \u001B[38;5;129;01mis\u001B[39;00m \u001B[38;5;129;01mnot\u001B[39;00m \u001B[38;5;28;01mNone\u001B[39;00m:\n\u001B[1;32m    606\u001B[0m         im\u001B[38;5;241m.\u001B[39msave(imageFilename)\n",
      "File \u001B[0;32m~/ESGI/RL/DofusAI/pythonProject/.venv/lib/python3.10/site-packages/PIL/ImageGrab.py:78\u001B[0m, in \u001B[0;36mgrab\u001B[0;34m(bbox, include_layered_windows, all_screens, xdisplay)\u001B[0m\n\u001B[1;32m     76\u001B[0m fh, filepath \u001B[38;5;241m=\u001B[39m tempfile\u001B[38;5;241m.\u001B[39mmkstemp(\u001B[38;5;124m\"\u001B[39m\u001B[38;5;124m.png\u001B[39m\u001B[38;5;124m\"\u001B[39m)\n\u001B[1;32m     77\u001B[0m os\u001B[38;5;241m.\u001B[39mclose(fh)\n\u001B[0;32m---> 78\u001B[0m \u001B[43msubprocess\u001B[49m\u001B[38;5;241;43m.\u001B[39;49m\u001B[43mcall\u001B[49m\u001B[43m(\u001B[49m\u001B[43m[\u001B[49m\u001B[38;5;124;43m\"\u001B[39;49m\u001B[38;5;124;43mgnome-screenshot\u001B[39;49m\u001B[38;5;124;43m\"\u001B[39;49m\u001B[43m,\u001B[49m\u001B[43m \u001B[49m\u001B[38;5;124;43m\"\u001B[39;49m\u001B[38;5;124;43m-f\u001B[39;49m\u001B[38;5;124;43m\"\u001B[39;49m\u001B[43m,\u001B[49m\u001B[43m \u001B[49m\u001B[43mfilepath\u001B[49m\u001B[43m]\u001B[49m\u001B[43m)\u001B[49m\n\u001B[1;32m     79\u001B[0m im \u001B[38;5;241m=\u001B[39m Image\u001B[38;5;241m.\u001B[39mopen(filepath)\n\u001B[1;32m     80\u001B[0m im\u001B[38;5;241m.\u001B[39mload()\n",
      "File \u001B[0;32m/usr/lib/python3.10/subprocess.py:347\u001B[0m, in \u001B[0;36mcall\u001B[0;34m(timeout, *popenargs, **kwargs)\u001B[0m\n\u001B[1;32m    345\u001B[0m \u001B[38;5;28;01mwith\u001B[39;00m Popen(\u001B[38;5;241m*\u001B[39mpopenargs, \u001B[38;5;241m*\u001B[39m\u001B[38;5;241m*\u001B[39mkwargs) \u001B[38;5;28;01mas\u001B[39;00m p:\n\u001B[1;32m    346\u001B[0m     \u001B[38;5;28;01mtry\u001B[39;00m:\n\u001B[0;32m--> 347\u001B[0m         \u001B[38;5;28;01mreturn\u001B[39;00m \u001B[43mp\u001B[49m\u001B[38;5;241;43m.\u001B[39;49m\u001B[43mwait\u001B[49m\u001B[43m(\u001B[49m\u001B[43mtimeout\u001B[49m\u001B[38;5;241;43m=\u001B[39;49m\u001B[43mtimeout\u001B[49m\u001B[43m)\u001B[49m\n\u001B[1;32m    348\u001B[0m     \u001B[38;5;28;01mexcept\u001B[39;00m:  \u001B[38;5;66;03m# Including KeyboardInterrupt, wait handled that.\u001B[39;00m\n\u001B[1;32m    349\u001B[0m         p\u001B[38;5;241m.\u001B[39mkill()\n",
      "File \u001B[0;32m/usr/lib/python3.10/subprocess.py:1209\u001B[0m, in \u001B[0;36mPopen.wait\u001B[0;34m(self, timeout)\u001B[0m\n\u001B[1;32m   1207\u001B[0m     endtime \u001B[38;5;241m=\u001B[39m _time() \u001B[38;5;241m+\u001B[39m timeout\n\u001B[1;32m   1208\u001B[0m \u001B[38;5;28;01mtry\u001B[39;00m:\n\u001B[0;32m-> 1209\u001B[0m     \u001B[38;5;28;01mreturn\u001B[39;00m \u001B[38;5;28;43mself\u001B[39;49m\u001B[38;5;241;43m.\u001B[39;49m\u001B[43m_wait\u001B[49m\u001B[43m(\u001B[49m\u001B[43mtimeout\u001B[49m\u001B[38;5;241;43m=\u001B[39;49m\u001B[43mtimeout\u001B[49m\u001B[43m)\u001B[49m\n\u001B[1;32m   1210\u001B[0m \u001B[38;5;28;01mexcept\u001B[39;00m \u001B[38;5;167;01mKeyboardInterrupt\u001B[39;00m:\n\u001B[1;32m   1211\u001B[0m     \u001B[38;5;66;03m# https://bugs.python.org/issue25942\u001B[39;00m\n\u001B[1;32m   1212\u001B[0m     \u001B[38;5;66;03m# The first keyboard interrupt waits briefly for the child to\u001B[39;00m\n\u001B[1;32m   1213\u001B[0m     \u001B[38;5;66;03m# exit under the common assumption that it also received the ^C\u001B[39;00m\n\u001B[1;32m   1214\u001B[0m     \u001B[38;5;66;03m# generated SIGINT and will exit rapidly.\u001B[39;00m\n\u001B[1;32m   1215\u001B[0m     \u001B[38;5;28;01mif\u001B[39;00m timeout \u001B[38;5;129;01mis\u001B[39;00m \u001B[38;5;129;01mnot\u001B[39;00m \u001B[38;5;28;01mNone\u001B[39;00m:\n",
      "File \u001B[0;32m/usr/lib/python3.10/subprocess.py:1959\u001B[0m, in \u001B[0;36mPopen._wait\u001B[0;34m(self, timeout)\u001B[0m\n\u001B[1;32m   1957\u001B[0m \u001B[38;5;28;01mif\u001B[39;00m \u001B[38;5;28mself\u001B[39m\u001B[38;5;241m.\u001B[39mreturncode \u001B[38;5;129;01mis\u001B[39;00m \u001B[38;5;129;01mnot\u001B[39;00m \u001B[38;5;28;01mNone\u001B[39;00m:\n\u001B[1;32m   1958\u001B[0m     \u001B[38;5;28;01mbreak\u001B[39;00m  \u001B[38;5;66;03m# Another thread waited.\u001B[39;00m\n\u001B[0;32m-> 1959\u001B[0m (pid, sts) \u001B[38;5;241m=\u001B[39m \u001B[38;5;28;43mself\u001B[39;49m\u001B[38;5;241;43m.\u001B[39;49m\u001B[43m_try_wait\u001B[49m\u001B[43m(\u001B[49m\u001B[38;5;241;43m0\u001B[39;49m\u001B[43m)\u001B[49m\n\u001B[1;32m   1960\u001B[0m \u001B[38;5;66;03m# Check the pid and loop as waitpid has been known to\u001B[39;00m\n\u001B[1;32m   1961\u001B[0m \u001B[38;5;66;03m# return 0 even without WNOHANG in odd situations.\u001B[39;00m\n\u001B[1;32m   1962\u001B[0m \u001B[38;5;66;03m# http://bugs.python.org/issue14396.\u001B[39;00m\n\u001B[1;32m   1963\u001B[0m \u001B[38;5;28;01mif\u001B[39;00m pid \u001B[38;5;241m==\u001B[39m \u001B[38;5;28mself\u001B[39m\u001B[38;5;241m.\u001B[39mpid:\n",
      "File \u001B[0;32m/usr/lib/python3.10/subprocess.py:1917\u001B[0m, in \u001B[0;36mPopen._try_wait\u001B[0;34m(self, wait_flags)\u001B[0m\n\u001B[1;32m   1915\u001B[0m \u001B[38;5;250m\u001B[39m\u001B[38;5;124;03m\"\"\"All callers to this function MUST hold self._waitpid_lock.\"\"\"\u001B[39;00m\n\u001B[1;32m   1916\u001B[0m \u001B[38;5;28;01mtry\u001B[39;00m:\n\u001B[0;32m-> 1917\u001B[0m     (pid, sts) \u001B[38;5;241m=\u001B[39m \u001B[43mos\u001B[49m\u001B[38;5;241;43m.\u001B[39;49m\u001B[43mwaitpid\u001B[49m\u001B[43m(\u001B[49m\u001B[38;5;28;43mself\u001B[39;49m\u001B[38;5;241;43m.\u001B[39;49m\u001B[43mpid\u001B[49m\u001B[43m,\u001B[49m\u001B[43m \u001B[49m\u001B[43mwait_flags\u001B[49m\u001B[43m)\u001B[49m\n\u001B[1;32m   1918\u001B[0m \u001B[38;5;28;01mexcept\u001B[39;00m \u001B[38;5;167;01mChildProcessError\u001B[39;00m:\n\u001B[1;32m   1919\u001B[0m     \u001B[38;5;66;03m# This happens if SIGCLD is set to be ignored or waiting\u001B[39;00m\n\u001B[1;32m   1920\u001B[0m     \u001B[38;5;66;03m# for child processes has otherwise been disabled for our\u001B[39;00m\n\u001B[1;32m   1921\u001B[0m     \u001B[38;5;66;03m# process.  This child is dead, we can't get the status.\u001B[39;00m\n\u001B[1;32m   1922\u001B[0m     pid \u001B[38;5;241m=\u001B[39m \u001B[38;5;28mself\u001B[39m\u001B[38;5;241m.\u001B[39mpid\n",
      "\u001B[0;31mKeyboardInterrupt\u001B[0m: "
     ]
    }
   ],
   "source": [
    "while True:\n",
    "    time.sleep(1)\n",
    "    get_screen_info()"
   ],
   "metadata": {
    "collapsed": false,
    "ExecuteTime": {
     "end_time": "2023-12-22T15:32:58.763683047Z",
     "start_time": "2023-12-22T15:32:54.594340383Z"
    }
   },
   "id": "30d84f09b4263214"
  }
 ],
 "metadata": {
  "kernelspec": {
   "display_name": "Python 3",
   "language": "python",
   "name": "python3"
  },
  "language_info": {
   "codemirror_mode": {
    "name": "ipython",
    "version": 2
   },
   "file_extension": ".py",
   "mimetype": "text/x-python",
   "name": "python",
   "nbconvert_exporter": "python",
   "pygments_lexer": "ipython2",
   "version": "2.7.6"
  }
 },
 "nbformat": 4,
 "nbformat_minor": 5
}
