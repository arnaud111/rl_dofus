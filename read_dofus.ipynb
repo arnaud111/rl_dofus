{
 "cells": [
  {
   "cell_type": "code",
   "execution_count": 26,
   "id": "initial_id",
   "metadata": {
    "collapsed": true,
    "ExecuteTime": {
     "end_time": "2023-12-17T14:17:47.466140927Z",
     "start_time": "2023-12-17T14:17:47.457368364Z"
    }
   },
   "outputs": [],
   "source": [
    "import pyautogui\n",
    "import time\n",
    "from PIL import Image, ImageDraw"
   ]
  },
  {
   "cell_type": "code",
   "execution_count": 8,
   "outputs": [
    {
     "ename": "KeyboardInterrupt",
     "evalue": "",
     "output_type": "error",
     "traceback": [
      "\u001B[0;31m---------------------------------------------------------------------------\u001B[0m",
      "\u001B[0;31mKeyboardInterrupt\u001B[0m                         Traceback (most recent call last)",
      "Cell \u001B[0;32mIn[8], line 4\u001B[0m\n\u001B[1;32m      1\u001B[0m i \u001B[38;5;241m=\u001B[39m \u001B[38;5;241m0\u001B[39m\n\u001B[1;32m      3\u001B[0m \u001B[38;5;28;01mwhile\u001B[39;00m \u001B[38;5;241m1\u001B[39m:\n\u001B[0;32m----> 4\u001B[0m     \u001B[43mtime\u001B[49m\u001B[38;5;241;43m.\u001B[39;49m\u001B[43msleep\u001B[49m\u001B[43m(\u001B[49m\u001B[38;5;241;43m1\u001B[39;49m\u001B[43m)\u001B[49m\n\u001B[1;32m      5\u001B[0m     screenshot \u001B[38;5;241m=\u001B[39m pyautogui\u001B[38;5;241m.\u001B[39mscreenshot()\n\u001B[1;32m      6\u001B[0m     screenshot\u001B[38;5;241m.\u001B[39msave(\u001B[38;5;124mf\u001B[39m\u001B[38;5;124m\"\u001B[39m\u001B[38;5;124mdata/fight/\u001B[39m\u001B[38;5;132;01m{\u001B[39;00mi\u001B[38;5;132;01m}\u001B[39;00m\u001B[38;5;124m.png\u001B[39m\u001B[38;5;124m\"\u001B[39m)\n",
      "\u001B[0;31mKeyboardInterrupt\u001B[0m: "
     ]
    }
   ],
   "source": [
    "i = 0\n",
    "\n",
    "while 1:\n",
    "    time.sleep(1)\n",
    "    screenshot = pyautogui.screenshot()\n",
    "    screenshot.save(f\"data/fight/{i}.png\")\n",
    "    i += 1"
   ],
   "metadata": {
    "collapsed": false,
    "ExecuteTime": {
     "end_time": "2023-12-17T13:22:39.464919214Z",
     "start_time": "2023-12-17T13:22:32.623140818Z"
    }
   },
   "id": "f67ee0d4b512cc7f"
  },
  {
   "cell_type": "code",
   "execution_count": 42,
   "outputs": [],
   "source": [
    "l = 20\n",
    "h = 14\n",
    "\n",
    "base_x = 235\n",
    "base_y = 5\n",
    "\n",
    "step_x = 130\n",
    "step_y = 65\n",
    "\n",
    "box_size = 30"
   ],
   "metadata": {
    "collapsed": false,
    "ExecuteTime": {
     "end_time": "2023-12-17T14:29:03.045743333Z",
     "start_time": "2023-12-17T14:29:03.003741437Z"
    }
   },
   "id": "dc337883300695aa"
  },
  {
   "cell_type": "code",
   "execution_count": 14,
   "outputs": [],
   "source": [
    "def crop_image(image, rect, path):\n",
    "    region = image.crop(rect)\n",
    "    region.save(path)"
   ],
   "metadata": {
    "collapsed": false,
    "ExecuteTime": {
     "end_time": "2023-12-17T14:09:32.783232486Z",
     "start_time": "2023-12-17T14:09:32.767704983Z"
    }
   },
   "id": "5c1405f0c86b060f"
  },
  {
   "cell_type": "code",
   "execution_count": 44,
   "outputs": [],
   "source": [
    "img = Image.open(\"data/fight/0.png\")\n",
    "\n",
    "draw = ImageDraw.Draw(img)\n",
    "\n",
    "for i in range(h):\n",
    "    for j in range(l):\n",
    "        x = base_x + step_x * i\n",
    "        y = base_y + step_y * j\n",
    "        \n",
    "        draw.rectangle((x, y, x + box_size, y + box_size), outline=\"red\", width=2)\n",
    "        \n",
    "        x += step_x // 2\n",
    "        y += step_y // 2\n",
    "        draw.rectangle((x, y, x + box_size, y + box_size), outline=\"red\", width=2)\n",
    "\n",
    "img.save(\"data/test.png\")\n",
    "\n",
    "img.close()"
   ],
   "metadata": {
    "collapsed": false,
    "ExecuteTime": {
     "end_time": "2023-12-17T14:29:40.163480180Z",
     "start_time": "2023-12-17T14:29:39.484629226Z"
    }
   },
   "id": "b2171dbd7b104c7e"
  },
  {
   "cell_type": "code",
   "execution_count": null,
   "outputs": [],
   "source": [],
   "metadata": {
    "collapsed": false
   },
   "id": "1bc82d40423f1131"
  }
 ],
 "metadata": {
  "kernelspec": {
   "display_name": "Python 3",
   "language": "python",
   "name": "python3"
  },
  "language_info": {
   "codemirror_mode": {
    "name": "ipython",
    "version": 2
   },
   "file_extension": ".py",
   "mimetype": "text/x-python",
   "name": "python",
   "nbconvert_exporter": "python",
   "pygments_lexer": "ipython2",
   "version": "2.7.6"
  }
 },
 "nbformat": 4,
 "nbformat_minor": 5
}
